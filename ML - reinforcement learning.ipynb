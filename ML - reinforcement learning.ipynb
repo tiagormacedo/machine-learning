{
  "cells": [
    {
      "cell_type": "markdown",
      "metadata": {
        "id": "SMd1Lpd6_zFF"
      },
      "source": [
        "# REINFORCEMENT LEARNING\n"
      ]
    },
    {
      "cell_type": "markdown",
      "metadata": {
        "id": "Yy64eQ7LrbpG"
      },
      "source": [
        "Reinforcement learning problems are usually modeled as _Markov Decision Processes_. A Markov Decision Process is a quadruple $(S, A, T, R)$, such that:\n",
        " * $S$ is a set called _set of states_,\n",
        " * $A$ is a set called _set of actions_,\n",
        " * $T : S \\times A \\times S \\to [0, 1]$ is a function called _transition probability function_, and\n",
        " * $R : S \\times A \\to \\mathbb{R}$ is a function called _reward function_.\n",
        "\n",
        "Moreover, the function $T$ satisfies the condition\n",
        "$$\n",
        "    \\sum_{t \\in S} T(s, a, t) = 1\n",
        "    \\quad \\text{for all } \\ s \\in S \\text{ and } a \\in A.\n",
        "$$\n",
        "\n",
        "Markov Decision Processes are used to model not only reinforcement learning problems but a variety of decision problems. Given one of these problems, one usually wishes to determine what is the best action to choose in each state in order to maximize one's long-term reward. A function $\\pi : S \\to A$ that assigns an action to each state is called a _policy_, and in this notebook, we will show methods to construct such policies.\n"
      ]
    },
    {
      "cell_type": "markdown",
      "metadata": {
        "id": "uukKPUbqrgeH"
      },
      "source": [
        "We begin by loading two Python libraries that will be used throughout this notebook:\n"
      ]
    },
    {
      "cell_type": "code",
      "execution_count": null,
      "metadata": {
        "id": "FpVDzTx4TNA1"
      },
      "outputs": [],
      "source": [
        "import numpy as np\n",
        "import random\n"
      ]
    },
    {
      "cell_type": "markdown",
      "metadata": {
        "id": "qlS7pyEJeLlY"
      },
      "source": [
        "# 1. A simple Markov Decision Process\n",
        "\n",
        "![simple-markov-decision-process.jpg](data:image/jpeg;base64,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)\n"
      ]
    },
    {
      "cell_type": "markdown",
      "metadata": {
        "id": "SEdT0N_ADErV"
      },
      "source": [
        "In this section, we will consider a very simple Markov Decision Process in which one has a set of three states, $S = \\{ \\alpha, \\beta, \\gamma \\}$, and for each state, one can choose between two actions, $A = \\{\\text{stay}, \\text{move}\\}$.\n"
      ]
    },
    {
      "cell_type": "code",
      "execution_count": null,
      "metadata": {
        "id": "MGJaraGeSDpc"
      },
      "outputs": [],
      "source": [
        "# Create a set with three states: alpha, beta and gamma.\n",
        "states = range(3)\n",
        "\n",
        "# Create a set with two actions: stay and move.\n",
        "actions = range(2)\n"
      ]
    },
    {
      "cell_type": "markdown",
      "metadata": {
        "id": "6rphWEJbY1D2"
      },
      "source": [
        "Consider also that, if an agent is in a certain state and decides to 'stay', then their state does not change.  However, if an agent is in a certain state and decides to 'move', then they could end up in one of the other two states.  That is, even though the decision to 'stay' is deterministic, the decision to 'move' is stochastic.  For example, let the function $T(s, a, s')$ that describes the probability of being in state $s$, taking action $a$, and ending up in state $s'$ be the following:\n",
        "\\begin{gather*}\n",
        "    T(\\alpha, \\text{stay}, \\alpha) = 100\\%, \\quad T(\\alpha, \\text{stay}, \\beta) = 0\\%, \\quad T(\\alpha, \\text{stay}, \\gamma) = 0\\%, \\\\\n",
        "    T(\\beta, \\text{stay}, \\alpha) = 0\\%, \\quad T(\\beta, \\text{stay}, \\beta) = 100\\%, \\quad T(\\beta, \\text{stay}, \\gamma) = 0\\%, \\\\\n",
        "    T(\\gamma, \\text{stay}, \\alpha) = 0\\%, \\quad T(\\gamma, \\text{stay}, \\beta) = 0\\%, \\quad T(\\gamma, \\text{stay}, \\gamma) = 100\\%, \\\\\n",
        "    T(\\alpha, \\text{move}, \\alpha) = 0\\%, \\quad T(\\alpha, \\text{move}, \\beta) = 50\\%, \\quad T(\\alpha, \\text{move}, \\gamma) = 50\\%, \\\\\n",
        "    T(\\beta, \\text{move}, \\alpha) = 25\\%, \\quad T(\\beta, \\text{move}, \\beta) = 0\\%, \\quad T(\\beta, \\text{move}, \\gamma) = 75\\%, \\\\\n",
        "    T(\\gamma, \\text{move}, \\alpha) = 33\\%, \\quad T(\\gamma, \\text{move}, \\beta) = 67\\%, \\quad T(\\gamma, \\text{move}, \\gamma) = 0\\%.\n",
        "\\end{gather*}\n"
      ]
    },
    {
      "cell_type": "code",
      "execution_count": null,
      "metadata": {
        "id": "-6cgJjyNS-hp"
      },
      "outputs": [],
      "source": [
        "# Initialize a matrix full of zeros\n",
        "T = np.zeros((3, 2, 3))\n",
        "\n",
        "# Set the nonzero transition probabilities\n",
        "T[0, 0, 0] = 1.0     # T[alpha, stay, alpha]\n",
        "T[0, 1, 1] = 0.5     # T[alpha, move, beta]\n",
        "T[0, 1, 2] = 0.5     # T[alpha, move, gamma]\n",
        "T[1, 1, 0] = 0.25    # T[beta, move, alpha]\n",
        "T[1, 0, 1] = 1.0     # T[beta, stay, beta]\n",
        "T[1, 1, 2] = 0.75    # T[beta, move, gamma]\n",
        "T[2, 1, 0] = 0.33    # T[gamma, move, alpha]\n",
        "T[2, 1, 1] = 0.67    # T[gamma, move, beta]\n",
        "T[2, 0, 2] = 1.0     # T[gamma, stay, gamma]\n"
      ]
    },
    {
      "cell_type": "markdown",
      "metadata": {
        "id": "kmVbYhinY97y"
      },
      "source": [
        "Finally, suppose that the reward obtained by staying in state $\\alpha$ is $10$, that the reward obtained by moving away from $\\beta$ is $-40$, that the reward obtained from moving away from $\\gamma$ is $20$, and that all other rewards are $0$.  That is, the function $R : S \\times A \\to \\mathbb{R}$ is given by\n",
        "$$\n",
        "    R(s, a) =\n",
        "    \\begin{cases}\n",
        "        \\ \\ \\ 10, & \\text{if } s = \\alpha \\text{ and } a = \\text{stay}, \\\\\n",
        "        -40, & \\text{if } s = \\beta \\text{ and } a = \\text{move}, \\\\\n",
        "        \\ \\ \\ 20, & \\text{if } s = \\gamma \\text{ and } a = \\text{move}, \\\\\n",
        "        \\ \\ \\ \\ \\ 0, & \\text{otherwise}.\n",
        "    \\end{cases}\n",
        "$$\n"
      ]
    },
    {
      "cell_type": "code",
      "execution_count": null,
      "metadata": {
        "id": "1BcAe2PAUKnQ"
      },
      "outputs": [],
      "source": [
        "# Initialize a matrix full of zeros\n",
        "R = np.zeros((3, 2))\n",
        "\n",
        "# Set the nonzero rewards\n",
        "R[0, 0] = 10     # R[alpha, stay]\n",
        "R[1, 1] = -40    # R[beta, move]\n",
        "R[2, 1] = 20     # R[gamma, move]\n"
      ]
    },
    {
      "cell_type": "markdown",
      "metadata": {
        "id": "wq37I6W-aA9e"
      },
      "source": [
        "The following algorithm computes the expected reward $Q(s, a)$ that an agent obtains by taking action $a$ in state $s$.  The value of $Q$ is iteratively given by _Bellman Optimality Equation_,\n",
        "$$\n",
        "    Q(s, a) = \\sum_{t \\in S} T(s, a, t) \\left( R(s, a) + d \\cdot \\max_{b \\in A} \\{Q(s, b)\\} \\right),\n",
        "$$\n",
        "for each state $s \\in S$ and action $a \\in A$, where $d \\in [0, 1]$ is  a parameter (called _discount rate_) that fixes the rate at which one believes the previous iteration should be devalued.  Intuitively, this equation sets $Q(s, a)$ as a weighted sum (with weights $\\{T(s, a, t)\\}_{t \\in S}$) of the immediate reward $R(s, a)$ and the neighboring expected rewards $\\{Q(s, b)\\}_{b \\in A}$.\n"
      ]
    },
    {
      "cell_type": "code",
      "execution_count": null,
      "metadata": {
        "id": "L39Sbou3VZzh"
      },
      "outputs": [],
      "source": [
        "# Initialize the Q-matrix with zeros\n",
        "Q = np.zeros((3, 2))\n",
        "\n",
        "# For a number of iterations, update the Q-matrix using the Q-value iteration\n",
        "# algorithm. Before starting this process, choose the parameters: number of\n",
        "# iterations and discount rate (how much one devalues previous information).\n",
        "# Remark: different discount rates may give different results.\n",
        "n_iterations = 50\n",
        "discount_rate = 0.9\n",
        "\n",
        "for _ in range(n_iterations):\n",
        "    for s in states:\n",
        "        for a in actions:\n",
        "            Q[s, a] = np.sum([ T[s, a, t] * (R[s, a] + discount_rate*np.max(Q[t]))  for t in states ])\n"
      ]
    },
    {
      "cell_type": "markdown",
      "metadata": {
        "id": "otp86Khqa6YM"
      },
      "source": [
        "Using the function $Q$ obtained above, one can construct a policy $\\pi : S \\to A$ by choosing the action that is expected to return the highest reward for each state:\n",
        "$$\n",
        "    \\pi(s) = \\text{argmax } Q(s, -),\n",
        "    \\quad \\text{ for all } s \\in S,\n",
        "$$\n",
        "where $Q(s, -) : A \\to \\mathbb{R}$ is the function given by $Q(s, -)(a) = Q(s, a)$.  Notice that, if an agent follows this policy in every state, then they should obtain the highest total reward in the long-term.\n"
      ]
    },
    {
      "cell_type": "code",
      "execution_count": null,
      "metadata": {
        "id": "DfysIOEJbo-M"
      },
      "outputs": [],
      "source": [
        "policy = {}\n",
        "\n",
        "for s in states:\n",
        "    policy[s] = np.argmax(Q[s])\n"
      ]
    },
    {
      "cell_type": "markdown",
      "metadata": {
        "id": "nwiP8RBYzGXO"
      },
      "source": [
        "# 2. A more envolved Markov Decision Process\n",
        "\n",
        "![grid-environment.jpg](data:image/jpeg;base64,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)\n"
      ]
    },
    {
      "cell_type": "markdown",
      "metadata": {
        "id": "EevGJrZcjWDS"
      },
      "source": [
        "Notice that, in the Markov Decision Process presented in the previous section, the transition probabilities and rewards were all given _a priori_.  In this section, we will consider a Markov Decision Process for which the transition probabilities and rewards are not given _a priori_.  Namely, consider a $3 \\times 4$ grid, where each cell represents a state, $S = \\{ (i, j) \\mid i \\in \\{0, 1, 2\\} \\ \\text{ and } \\ j \\in \\{0, 1, 2, 3\\}\\}$, and, in each state, one can take four possible actions, $A = \\{\\text{left}, \\text{up}, \\text{right}, \\text{down}\\}$.  In this case, one's goal is to start in state $(0, 0)$ and reach the state $(2, 3)$.\n",
        "\n",
        "Since transition probabilities and rewards were not given, we will assume that each action is deterministic, choose rewards for each state-action pair, and let the agent explore the environment.\n"
      ]
    },
    {
      "cell_type": "code",
      "source": [
        "ACTIONS = {\"left\", \"up\", \"right\", \"down\"}\n",
        "\n",
        "HEIGHT = 3\n",
        "WIDTH = 4\n",
        "states = {(i, j)  for i in range(HEIGHT) for j in range(WIDTH)}\n",
        "\n",
        "INITIAL_STATE = (0, 0)\n",
        "GOAL = (HEIGHT-1, WIDTH-1)\n"
      ],
      "metadata": {
        "id": "Wcm4ixG-s0_1"
      },
      "execution_count": null,
      "outputs": []
    },
    {
      "cell_type": "markdown",
      "source": [
        "Next, we construct a loop that makes the agent explore the environment.  That is, starting from the initial state $(0, 0)$, we will choose a random action from the set of actions and take this action, until we reach the fixed goal or a certain maximum number of steps (`MAX_STEPS`). Notice that, while the agent explores the environment, it will collect rewards for its actions: $-1$ for each state that is not the goal, and $5$ for the goal.\n"
      ],
      "metadata": {
        "id": "bcThGLN1uJe9"
      }
    },
    {
      "cell_type": "code",
      "source": [
        "MAX_STEPS = 100\n",
        "\n",
        "x, y = INITIAL_STATE\n",
        "n_steps = 0\n",
        "\n",
        "# Initialize a list to collect the information regarding the exploration\n",
        "exploration = []\n",
        "\n",
        "while ((x, y) != GOAL) and (n_steps < MAX_STEPS):\n",
        "    # Update the number of steps\n",
        "    n_steps += 1\n",
        "\n",
        "    # Choose a random action from the set of actions\n",
        "    action = random.choice(tuple(ACTIONS))\n",
        "\n",
        "    # Depending on the chosen action, change the current state (x, y). Notice\n",
        "    # that one should interpret (x, y) as rows and columns of a matrix, not as\n",
        "    # the cartesian coordinates of a lattice in R².\n",
        "    if (action == \"left\") and ((x, y-1) in states):\n",
        "        y -= 1\n",
        "    elif (action == \"right\") and ((x, y+1) in states):\n",
        "        y += 1\n",
        "    elif (action == \"up\") and ((x-1, y) in states):\n",
        "        x -= 1\n",
        "    elif (action == \"down\") and ((x+1, y) in states):\n",
        "        x += 1\n",
        "    #else: there is no need to change (x, y)\n",
        "\n",
        "    # Get a reward that depends on the outcome of the action\n",
        "    if (x, y) == GOAL:\n",
        "        reward = 5\n",
        "    else: # that is, if (x, y) != goal:\n",
        "        reward = -1\n",
        "\n",
        "    # Collect and print the information regarding this step\n",
        "    exploration.append({'state': (x, y), 'reward': reward})\n",
        "    print(f\"Step {n_steps}: (x, y) = {(x, y)} and reward = {reward}\")\n"
      ],
      "metadata": {
        "id": "IF5BFs53uJKP"
      },
      "execution_count": null,
      "outputs": []
    },
    {
      "cell_type": "markdown",
      "source": [
        "Now that the agent has explored the environment, it can assign a _value_ to each visited state.  This value is supposed to encode the potential of achieving the goal once the agent is in a certain state.  More precisely, for each visited state $s$, one assigns the number $V(s) \\in \\mathbb{R}$, which is defined to be a weighted sum of the rewards of the states that were visited after $s$ in the exploration process.  These weighted sums are known as _discounted returns_ or _cumulative rewards_, and the resulting function $V: S \\to \\mathbb{R}$ is known as the _value function_.\n"
      ],
      "metadata": {
        "id": "tkQMJzH3AOnu"
      }
    },
    {
      "cell_type": "code",
      "source": [
        "# Initialize a matrix that will store the values of the value function, that\n",
        "# is, V((i, j)) = value_matrix[i, j]\n",
        "value_matrix = np.zeros((HEIGHT, WIDTH))\n",
        "\n",
        "# Choose the weight of the cumulative future reward in the value of a state\n",
        "DISCOUNT_RATE = 0.5\n",
        "\n",
        "# Initialize a number and a list that will record the cumulative (future)\n",
        "# rewards, starting from the end of the exploration list\n",
        "cumulative_reward = 0.0\n",
        "cumulative_rewards = {s: []  for s in states}\n",
        "\n",
        "for i, step in enumerate(exploration[::-1]):\n",
        "    x, y = step['state']\n",
        "    reward = step['reward']\n",
        "\n",
        "    cumulative_reward = reward + DISCOUNT_RATE * cumulative_reward\n",
        "    cumulative_rewards[(x, y)].append(cumulative_reward)\n",
        "\n",
        "    value_matrix[x, y] = sum(cumulative_rewards[(x, y)]) / len(cumulative_rewards[(x, y)])\n",
        "\n",
        "\n",
        "value_matrix\n"
      ],
      "metadata": {
        "id": "U1WsP2VgEVw_"
      },
      "execution_count": null,
      "outputs": []
    },
    {
      "cell_type": "markdown",
      "metadata": {
        "id": "reF8XEn8_6hw"
      },
      "source": [
        "As in every Markov Decision Process, the main goal is to construct a policy $\n",
        "\\pi: S \\to A$.  In this case, we will use the value function constructed above. Namely, for each state $s \\in S$, the action $\\pi(s)$ will be defined to be the one for which the resulting state has the maximal value.\n"
      ]
    },
    {
      "cell_type": "code",
      "execution_count": null,
      "metadata": {
        "id": "WVfyRzoFmDbM"
      },
      "outputs": [],
      "source": [
        "# Initialize a dictionary that will record the policy\n",
        "policy = {}\n",
        "\n",
        "# For each state in the environment\n",
        "for i, j in states:\n",
        "\n",
        "    # Gather the values of its neighboring states\n",
        "    neighboring_values = {}\n",
        "    for action in ACTIONS:\n",
        "        if (action == \"left\") and ((i, j-1) in states):\n",
        "            neighbor = (i, j-1)\n",
        "        elif (action == \"right\") and ((i, j+1) in states):\n",
        "            neighbor = (i, j+1)\n",
        "        elif (action == \"up\") and ((i-1, j) in states):\n",
        "            neighbor = (i-1, j)\n",
        "        elif (action == \"down\") and ((i+1, j) in states):\n",
        "            neighbor = (i+1, j)\n",
        "        else:\n",
        "            neighbor = (i, j)\n",
        "\n",
        "        neighboring_values[action] = value_matrix[neighbor]\n",
        "\n",
        "    # Find the action that has the maximum resulting value and set it as\n",
        "    # the state's policy\n",
        "    best_action = max(neighboring_values, key=neighboring_values.get)\n",
        "    policy[(i, j)] = best_action\n",
        "\n",
        "\n",
        "policy\n"
      ]
    },
    {
      "cell_type": "markdown",
      "metadata": {
        "id": "dD-WMUQ0qcrv"
      },
      "source": [
        "Notice that, by runing the above cells, there resulting policy does not reflect our intuition.  In fact, in order for this method to be effective, that is, in order for the value function to converge to a good estimate of the expected value of each state, one must iterate it several times. In the following cell, we will implement this iteration and summarize the whole method in a function.\n"
      ]
    },
    {
      "cell_type": "code",
      "execution_count": null,
      "metadata": {
        "id": "vyH9P_oZ5InU"
      },
      "outputs": [],
      "source": [
        "def main (height, width, n_explorations=100, discount_rate=0.5, epsilon=0.5):\n",
        "    \"\"\"\n",
        "    :param height (int): height of the environment.\n",
        "    :param width (int): width of the environment.\n",
        "    :param n_explorations (int): number of times that the agent explores the\n",
        "        environment and the value function/matrix is updated.\n",
        "    :param discount_rate (float): percentage of the future values that\n",
        "        contribute to the weighted cumulative reward (discounted return) of\n",
        "        a visited state.\n",
        "    :param epsilon (float): percentage of the steps in the exploration fase\n",
        "        that are completely random.\n",
        "\n",
        "    :return policy (dict): the best action to be taken for each state.\n",
        "    \"\"\"\n",
        "    # Setup the environment\n",
        "    ACTIONS = {\"left\", \"up\", \"right\", \"down\"}\n",
        "    states = {(i, j)  for i in range(height) for j in range(width)}\n",
        "    goal = (height-1, width-1)\n",
        "    INITIAL_STATE = (0, 0)\n",
        "\n",
        "    # Initialize the state-value matrix, the policy dictionary (randomly), and\n",
        "    # the cumulative rewards dictionary\n",
        "    value_matrix = np.zeros((height, width))\n",
        "    policy = {s: random.choice(tuple(ACTIONS))  for s in states}\n",
        "    cumulative_rewards = {s: []  for s in states}\n",
        "\n",
        "    # Fix the parameter for the maximum number of steps in a random walk\n",
        "    MAX_STEPS = 100\n",
        "\n",
        "    for _ in range(n_explorations):\n",
        "        # Reset the state and the steps counter\n",
        "        (x, y) = INITIAL_STATE\n",
        "        n_steps = 0\n",
        "\n",
        "        # Initialize a list to collect the info regarding the exploration\n",
        "        exploration = []\n",
        "\n",
        "        # Explore the environment somewhat randomly\n",
        "        while ((x, y) != goal) and (n_steps < MAX_STEPS):\n",
        "            # Update the number of steps\n",
        "            n_steps += 1\n",
        "\n",
        "            # Choose either: a completely random action if a random number is\n",
        "            # less than epsilon, or the best action according to the policy\n",
        "            # otherwise:\n",
        "            if random.uniform(0, 1) < epsilon:\n",
        "                action = random.choice(tuple(ACTIONS))\n",
        "            else:\n",
        "                action = policy[(x, y)]\n",
        "\n",
        "            # Depending on the chosen action, change the current state (x, y)\n",
        "            if action == \"left\" and y > 0:\n",
        "                y -= 1\n",
        "            elif action == \"right\" and y < width-1:\n",
        "                y += 1\n",
        "            elif action == \"up\" and x > 0:\n",
        "                x -= 1\n",
        "            elif action == \"down\" and x < height-1:\n",
        "                x += 1\n",
        "            #else: there is no need to change (x, y)\n",
        "\n",
        "            # Get a reward that depends on the outcome of the action\n",
        "            if (x, y) == goal:\n",
        "                reward = 5\n",
        "            else: # that is, if (x, y) != goal:\n",
        "                reward = -1\n",
        "\n",
        "            # Collect and print the information regarding this step\n",
        "            exploration.append({'state': (x, y), 'reward': reward})\n",
        "\n",
        "\n",
        "        # Update the state-value matrix\n",
        "        cumulative_reward = 0.0\n",
        "\n",
        "        for step in exploration[::-1]:\n",
        "            x, y = step['state']\n",
        "            reward = step['reward']\n",
        "\n",
        "            cumulative_reward = reward + discount_rate * cumulative_reward\n",
        "            cumulative_rewards[(x, y)].append(cumulative_reward)\n",
        "\n",
        "            value_matrix[x, y] = sum(cumulative_rewards[(x, y)]) / len(cumulative_rewards[(x, y)])\n",
        "\n",
        "\n",
        "    # Update the policy\n",
        "    for i, j in states:\n",
        "\n",
        "        # Gather the values of its neighboring states\n",
        "        neighboring_values = {}\n",
        "        for action in ACTIONS:\n",
        "            if action == \"left\" and j > 0:\n",
        "                neighbor = (i, j-1)\n",
        "            elif action == \"right\" and j < width-1:\n",
        "                neighbor = (i, j+1)\n",
        "            elif action == \"up\" and i > 0:\n",
        "                neighbor = (i-1, j)\n",
        "            elif action == \"down\" and i < height-1:\n",
        "                neighbor = (i+1, j)\n",
        "            else:\n",
        "                neighbor = (i, j)\n",
        "\n",
        "            neighboring_values[action] = value_matrix[neighbor]\n",
        "\n",
        "        # Find the action that has the maximum resulting value and set it as\n",
        "        # the state's policy\n",
        "        best_action = max(neighboring_values, key=neighboring_values.get)\n",
        "        policy[(i, j)] = best_action\n",
        "\n",
        "    return policy\n"
      ]
    },
    {
      "cell_type": "markdown",
      "source": [
        "# 3. A more envolved Markov Decision Process with a neural network\n",
        "\n",
        "![maze.jpg](data:image/jpeg;base64,/9j/4Q/+RXhpZgAATU0AKgAAAAgABgESAAMAAAABAAEAAAEaAAUAAAABAAAAVgEbAAUAAAABAAAAXgEoAAMAAAABAAIAAAITAAMAAAABAAEAAIdpAAQAAAABAAAAZgAAAAAAAACWAAAAAQAAAJYAAAABAAeQAAAHAAAABDAyMjGRAQAHAAAABAECAwCgAAAHAAAABDAxMDCgAQADAAAAAQABAACgAgAEAAAAAQAAAOygAwAEAAAAAQAAAOykBgADAAAAAQAAAAAAAAAAAAAAAAAAAAAAAAAAAAAAAAAAAAAAAAAAAAAAAAAAAAAAAAAAAAAAAAAAAAAAAAAAAAAAAAAAAAAAAAAAAAAAAAAAAAAAAAAAAAAAAAAAAAAAAAAAAAAAAAAAAAAAAAAAAAAAAAAAAAAAAAAAAAAAAAAAAAAAAAAAAAAAAAAAAAAAAAAAAAAAAAAAAAAAAAAAAAAAAAAAAAAAAAAAAAAAAAAAAAAAAAAAAAAAAAAAAAAAAAAAAAAAAAAAAAAAAAAAAAAAAAAAAAAAAAAAAAAAAAAAAAAAAAAAAAAAAAAAAAAAAAAAAAAAAAAAAAAAAAAAAAAAAAAAAAAAAAAAAAAAAAAAAAAAAAAAAAAAAAAAAAAAAAAAAAAAAAAAAAAAAAAAAAAAAAAAAAAAAAAAAAAAAAAAAAAAAAAAAAAAAAAAAAAAAAAAAAAAAAAAAAAAAAAAAAAAAAAAAAAAAAAAAAAAAAAAAAAAAAAAAAAAAAAAAAAAAAAAAAAAAAAAAAAAAAAAAAAAAAAAAAAAAAAAAAAAAAAAAAAAAAAAAAAAAAAAAAAAAAAAAAAAAAAAAAAAAAAAAAAAAAAAAAAAAAAAAAAAAAAAAAAAAAAAAAAAAAAAAAAAAAAAAAAAAAAAAAAAAAAAAAAAAAAAAAAAAAAAAAAAAAAAAAAAAAAAAAAAAAAAAAAAAAAAAAAAAAAAAAAAAAAAAAAAAAAAAAAAAAAAAAAAAAAAAAAAAAAAAAAAAAAAAAAAAAAAAAAAAAAAAAAAAAAAAAAAAAAAAAAAAAAAAAAAAAAAAAAAAAAAAAAAAAAAAAAAAAAAAAAAAAAAAAAAAAAAAAAAAAAAAAAAAAAAAAAAAAAAAAAAAAAAAAAAAAAAAAAAAAAAAAAAAAAAAAAAAAAAAAAAAAAAAAAAAAAAAAAAAAAAAAAAAAAAAAAAAAAAAAAAAAAAAAAAAAAAAAAAAAAAAAAAAAAAAAAAAAAAAAAAAAAAAAAAAAAAAAAAAAAAAAAAAAAAAAAAAAAAAAAAAAAAAAAAAAAAAAAAAAAAAAAAAAAAAAAAAAAAAAAAAAAAAAAAAAAAAAAAAAAAAAAAAAAAAAAAAAAAAAAAAAAAAAAAAAAAAAAAAAAAAAAAAAAAAAAAAAAAAAAAAAAAAAAAAAAAAAAAAAAAAAAAAAAAAAAAAAAAAAAAAAAAAAAAAAAAAAAAAAAAAAAAAAAAAAAAAAAAAAAAAAAAAAAAAAAAAAAAAAAAAAAAAAAAAAAAAAAAAAAAAAAAAAAAAAAAAAAAAAAAAAAAAAAAAAAAAAAAAAAAAAAAAAAAAAAAAAAAAAAAAAAAAAAAAAAAAAAAAAAAAAAAAAAAAAAAAAAAAAAAAAAAAAAAAAAAAAAAAAAAAAAAAAAAAAAAAAAAAAAAAAAAAAAAAAAAAAAAAAAAAAAAAAAAAAAAAAAAAAAAAAAAAAAAAAAAAAAAAAAAAAAAAAAAAAAAAAAAAAAAAAAAAAAAAAAAAAAAAAAAAAAAAAAAAAAAAAAAAAAAAAAAAAAAAAAAAAAAAAAAAAAAAAAAAAAAAAAAAAAAAAAAAAAAAAAAAAAAAAAAAAAAAAAAAAAAAAAAAAAAAAAAAAAAAAAAAAAAAAAAAAAAAAAAAAAAAAAAAAAAAAAAAAAAAAAAAAAAAAAAAAAAAAAAAAAAAAAAAAAAAAAAAAAAAAAAAAAAAAAAAAAAAAAAAAAAAAAAAAAAAAAAAAAAAAAAAAAAAAAAAAAAAAAAAAAAAAAAAAAAAAAAAAAAAAAAAAAAAAAAAAAAAAAAAAAAAAAAAAAAAAAAAAAAAAAAAAAAAAAAAAAAAAAAAAAAAAAAAAAAAAAAAAAAAAAAAAAAAAAAAAAAAAAAAAAAAAAAAAAAAAAAAAAAAAAAAAAAAAAAAAAAAAAAAAAAAAAAAAAAAAAAAAAAAAAAAAAAAAAAAAAAAAAAAAAAAAAAAAAAAAAAAAAAAAAAAAAAAAAAAAAAAAAAAAAAAAAAAAAAAAAAAAAAAAAAAAAAAAAAAAAAAAAAAAAAAAAAAAAAAAAAAAAAAAAAAAAAAAAAAAAAAAAAAAAAAAAAAAAAAAAAAAAAAAAAAAAAAAAAAAAAAAAAAAAAAAAAAAAAAAAAAAAAAAAAAAAAAAAAAAAAAAAAAAAAAAAAAAAAAAAAAAAAAAAAAAAAAAAAAAAAAAAAAAAAAAAAAAAAAAAAAAAAAAAAAAAAAAAAAAAAAAAAAAAAAAAAAAAAAAAAAAAAAAAAAAAAAAAAAAAAAAAAAAAAAAAAAAAAAAAAAAAAAAAAAAAAAAAAAAAAAAAAAAAAAAAAAAAAAAAAAAAAAAAAAAAAAAAAAAAAAAAAAAAAAAAAAAAAAAAAAAAAAAAAAAAAAAAAAAAAAAAAAAAAAAAAAAAAAAAAAAAAAAAAAAAAAAAAAAAAAAAAAAAAAAAAAAAAAAAAAAAAAAAAAAAAAAAAAAAAAAAAAAAAAAAAAAAAAAAAAAAAAAAAAAAAAAAAAAAAAAAAAAAAAAAAAAAAAAAAAAAAAAAAAAAAAAAAAAAAAAAAAAAAAAAAAAAAAAAAAAAAAAAAAAAAAAAAAAAAAAAAAAAAAAAAAAAAAAAAAAAAAAAAAAAAAAAAAAAAAAAAAAAAAAAAAAAAAAAAAAAAAAAAAAAAAAAAAAAAAAAAAAAAAAAAAAAAAAAAAAAAAAAAAAAAAAAAAAAAAAAAAAAAAAAAAAAAAAAAAAAAAAAAAAAAAAAAAAAAAAAAAAAAAAAAAAAAAAAAAAAAAAAAAAAAAAAAAAAAAAAAAAAAAAAAAAAAAAAAAAAAAAAAAAAAAAAAAAAAAAAAAAAAAAAAAAAAAAAAAAAAAAAAAAAAAAAAAAAAAAAAAAAAAAAAAAAAAAAAAAAAAAAAAAAAAAAAAAAAAAAAAAAAAAAAAAAAAAAAAAAAAAAAAAAAAAAAAAAAAAAAAAAAAAAAAAAAAAAAAAAAAAAAAAAAAAAAAAAAAAAAAAAAAAAAAAAAAAAAAAAAAAAAAAAAAAAAAAAAAAAAAAAAAAAAAAAAAAAAAAAAAAAAAAAAAAAAAAAAAAAAAAAAAAAAAAAAAAAAAAAAAAAAAAAAAAAAAAAAAAAAAAAAAAAAAAAAAAAAAAAAAAAAAAAAAAAAAAAAAAAAAAAAAAAAAAAAAAAAAAAAAAAAAAAAAAAAAAAAAAAAAAAAAAAAAAAAAAAAAAAAAAAAAAAAAAAAAAAAAAAAAAAAAAAAAAAAAAAAAAAAAAAAAAAAAAAAAAAAAAAAAAAAAAAAAAAAAAAAAAAAAAAAAAAAAAAAAAAAAAAAAAAAAAAAAAAAAAAAAAAAAAAAAAAAAAAAAAAAAAAAAAAAAAAAAAAAAAAAAAAAAAAAAAAAAAAAAAAAAAAAAAAAAAAAAAAAAAAAAAAAAAAAAAAAAAAAAAAAAAAAAAAAAAAAAAAAAAAAAAAAAAAAAAAAAAAAAAAAAAAAAAAAAAAAAAAAAAAAAAAAAAAAAAAAAAAAAAAAAAAAAAAAAAAAAAAAAAAAAAAAAAAAAAAAAAAAAAAAAAAAAAAAAAAAAAAAAAAAAAAAAAAAAAAAAAAAAAAAAAAAAAAAAAAAAAAAAAAAAAAAAAAAAAAAAAAAAAAAAAAAAAAAAAAAAAAAAAAAAAAAAAAAAAAAAAAAAAAAAAAAAAAAAAAAAAAAAAAAAAAAAAAAAAAAAAAAAAAAAAAAAAAAAAAAAAAAAAAAAAAAAAAAAAAAAAAAAAAAAAAAAAAAAAAAAAAAAAAAAAAAAAAAAAAAAAAAAAAAAAAAAAAAAAAAAAAAAAAAAAAAAAAAAAAAAAAAAAAAAAAAAAAAAAAAAAAAAAAAAAAAAAAAAAAAAAAAAAAAAAAAAAAAAAAAAAAAAAAAAAAAAAAAAAAAAAAAAAAAAAAAAAAAAAAAAAAAAAAAAAAAAAAAAAAAAAAAAAAAAAAAAAAAAAAAAAAAAAAAAAAAAAAAAAAAAAAAAAAAAAAAAAAAAAAAAAAAAAAAAAAAAAAAAAAAAAAAAAAAAAAAAAAAAAAAAAAAAAAAAAAAAAAAAAAAAAAAAAAAAAAAAAAAAAAAAAAAAAAAAAAAAAAAAAAAAAAAAAAAAAAAAAAAAAAAAAAAAAAAAAAAAAAAAAAAAAAAAAAAAAAAAAAAAAAAAAAAAAAAAAAAAAAAAAAAAAAAAAAAAAAAAAAAAAAAAAAAAAAAAAAAAAAAAAAAAAAAAAAAAAAAAAAAAAAAAAAAAAAAAAAAAAAAAAAAAAAAAAAAAAAAAAAAAAAAAAAAAAAAAAAAAAAAAAAAAAAAAAAAAAAAAAAAAAAAAAAAAAAAAAAAAAAAAAAAAAAAAAAAAAAAAAAAAAAAAAAAAAAAAAAAAAAAAAAAAAAAAAAAAAAAAAAAAAAAAAAAAAAAAAAAAAAAAAAAAAAAAAAAAAAAAAAAAAAAAAAAAAAAAAAAAAAAAAAAAAAAAAAAAAAAAAAAAAAAAAAAAAAAAAAAAAAAAAAAAAAAAAAAAAAAAAAAAAAAAAAAAAAAAAAAAAAAAAAAAAAAAAAAAAAAAAAAAAAAAAAAAAAAAAAAAAAAAAAAAAAAAAAAAAAAAAAAAAAAAAAAAAAAAAAAAAAAAAAAAAAAAAAAAAAAAAAAAAAAAAAAAAAAAAAAAAAAAAAAAAAAAAAAAAAAAAAAAAAAAAAAAAAAAAAAAAAAAAAAAAAAAAAAAAAAAAAAAAAAAAAAAAAAAAAAAAAAAAAAAAAAAAAAAAAAAAAAAAAAAAAAAAAAAAAAAAAAAAAAAAAAAAAAAAAAAAAAAAAAAAAAAAAAAAAAAAAAAAAAAAAAAAAAAAAAAAAAAAAAAAAAAAAAAAAAAAAAAAAAAAAAAAAAAAAAAAAAAAAAAAAAAAAAAAAAAAAAAAAAAAAAAAAAAAAAAAAAAAAAAAAAAAAAAAAAAAAAAAAAAAAAAAAAAAAAAAAAAAAAAAAAAAAAAAAAAAAAAAAAAAAAAAAAAAAAAAAAAAAAAAAAAAAAAAAAAAAAAAAAAAAAAAAAAAAAAAAAAAAAAAAAAAAAAAAAAAAAAAAAAAAAAAAAAAAAAAAAAAAAAAAAAAAAAAAAAAAAAAAAAAAAAAAAAAAAAAAAAAAAAAAAAAAAAAAAAAAAAAAAAAAAAAAAAAAAAAAAAAAAAAAAAAAAAAAAAAAAAAAAAAAAAAAAAAAAAAAA/9sAhAABAQEBAQECAQECAwICAgMEAwMDAwQFBAQEBAQFBgUFBQUFBQYGBgYGBgYGBwcHBwcHCAgICAgJCQkJCQkJCQkJAQEBAQICAgQCAgQJBgUGCQkJCQkJCQkJCQkJCQkJCQkJCQkJCQkJCQkJCQkJCQkJCQkJCQkJCQkJCQkJCQkJCQn/3QAEABH/wAARCAEKAQoDASIAAhEBAxEB/8QBogAAAQUBAQEBAQEAAAAAAAAAAAECAwQFBgcICQoLEAACAQMDAgQDBQUEBAAAAX0BAgMABBEFEiExQQYTUWEHInEUMoGRoQgjQrHBFVLR8CQzYnKCCQoWFxgZGiUmJygpKjQ1Njc4OTpDREVGR0hJSlNUVVZXWFlaY2RlZmdoaWpzdHV2d3h5eoOEhYaHiImKkpOUlZaXmJmaoqOkpaanqKmqsrO0tba3uLm6wsPExcbHyMnK0tPU1dbX2Nna4eLj5OXm5+jp6vHy8/T19vf4+foBAAMBAQEBAQEBAQEAAAAAAAABAgMEBQYHCAkKCxEAAgECBAQDBAcFBAQAAQJ3AAECAxEEBSExBhJBUQdhcRMiMoEIFEKRobHBCSMzUvAVYnLRChYkNOEl8RcYGRomJygpKjU2Nzg5OkNERUZHSElKU1RVVldYWVpjZGVmZ2hpanN0dXZ3eHl6goOEhYaHiImKkpOUlZaXmJmaoqOkpaanqKmqsrO0tba3uLm6wsPExcbHyMnK0tPU1dbX2Nna4uPk5ebn6Onq8vP09fb3+Pn6/9oADAMBAAIRAxEAPwD+8nX9fi0GKN3jLBjgAY9K5n/hZEP/AD6t+Yo+JLAw22Om4/yr5q+KPxR8AfBXwDqvxR+KOrW+iaDolu91eXl04SKKKMZJJOPTAA61+dZ9n+IoYj2VK2x+WcTcTYvC4v2NF6adD6UPxHh/59mH4il/4WRD2tW/MV/Ev+0J/wAHUN9aeJDYfsr/AAwhvtHjZl+3+Kbx7GWdRjZLDa20U8iIw5xOsTDj5eePmz/iKd/a+wM/DHwf/wCDO+/+Qq4HxFjFvUivuR5L4sxy3qQXq0v+GP7+/wDhZEf/AD6t+lJ/wsdP+fZv0r+AT/iKe/a9/wCiY+D/APwZ3/8A8hUf8RT37X3/AETHwf8A+DO//wDkKl/rHi/+fsPvRP8Arbjv+f0PvR/f1/wsaPP/AB7N+Yp3/CxoO9o35iv4A/8AiKe/a+/6Jj4P/wDBnf8A/wAhUf8AEU9+19/0THwf/wCDO/8A/kKn/rFjP+fsfvRX+tmN/wCfsPvR/f7/AMLHg/59W/MUf8LFg/592/Sv4Av+Ip79r7/omPg//wAGd/8A/IVL/wARTv7Xv/RMvB//AIMr/wD+QqX+seL/AOfsfvRL4sxv/P2H3o/v8/4WLB/z7t+lH/CxYP8An3b9K/gD/wCIp39r3/omXg//AMGV/wD/ACFR/wARTv7Xv/RMvB//AIMr/wD+QqX+smL/AOfsfvQv9bcb/wA/ofej+/v/AIWLD2t2/Sj/AIWLF2t2/Sv4BP8AiKd/a9/6Jl4P/wDBlf8A/wAhUf8AEU7+17/0THwf/wCDO/8A/kKj/WTF/wDP2P3of+tuN/5+w+9H9/n/AAsWP/ngf0o/4WLH/wA8D+lfwB/8RTv7Xv8A0THwf/4M7/8A+QqP+Ip39r3/AKJl4P8A/Blf/wDyFT/1jxf/AD9h96D/AFtxv/P2H/gSP7/P+Fix/wDPA/pR/wALFj/54H9K/gC/4inv2vf+iY+D/wDwZ3//AMhUf8RT37Xv/RMfB/8A4M7/AP8AkKj/AFjxf/P2H3oP9bcb/wA/Yf8AgSP7/f8AhYsf/PA/pR/wsWP/AJ4H9K/gC/4inv2vv+iY+D//AAZ3/wD8hUf8RT37Xv8A0THwf/4M7/8A+Qqf+sWM/wCfsfvQf6243/n7D/wJH9/v/CxY/wDngf0o/wCFix/88D+lfwBf8RT37Xv/AETHwf8A+DO//wDkKj/iKe/a9/6Jj4P/APBnf/8AyFS/1jxf/P2H3oP9bcb/AM/Yf+BI/v8Af+Fix/8APA/pR/wsWP8A54H9K/gC/wCIp79r3/omPg//AMGd/wD/ACFR/wART37X3/RMfB//AIM7/wD+QqP9Y8X/AM/Yfeg/1txv/P2H/gSP7/f+Fix/88D+lH/CxY/+eB/Sv4A/+Ip79r3/AKJj4P8A/Bnf/wDyFSf8RT37Xv8A0THwf/4M7/8A+QqP9Y8X/wA/Yfeg/wBbcb/z9h/4Ej+/3/hYsf8AzwP6Uf8ACxY/+eB/Sv4Av+Ip79r3/omPg/8A8Gd//wDIVH/EU9+19/0THwf/AODO/wD/AJCo/wBY8X/z9h96H/rZjv8An7D/AMCR/f7/AMLGj/59z+lN/wCFjQ/8+rfmK/gE/wCIp79r7/omPg//AMGd/wD/ACFR/wART37Xv/RMfB//AIM7/wD+QqT4jxdv4sPvQv8AWzG/8/Yfej+/z/hZEXa2YfiKT/hY8X/Ps35iv4JfDf8AwdS/tNwatA3ib4UeF7ix3jzltdVu1m8v+Ly/MtEj3Y6bnVfUjrX9OH/BPP8A4KY/AL/gor4Budf+GBn0jxDo+wavoGobBeWe/OxxsLJJC+CEkjZkOMA8HCqcTYxLSSfpb9CZ8W49K6nF+lmfsBovjOLWdQFn5LJkHk47fSu48r2rwbwUT/wkCZH8Jr3v5a+24czKpXw/PI/ROFMzqYvC+0rbn//Q/uj+IvENqPRj/Kv4lf8Ag6g/aD8SWl78L/2WbEsmj38N54pv9rYE8ti8VvawyJ0ZUknWcZ6PEvB7f20fEg5itvZj/Kv4Bv8Ag6d4/a++GLY5/wCEP1L/ANLrKvyriLTGVJdo/kj8W4ra+vVH2g2vkj+YHLMSznJPekpKUDPAr8vbcmfjTberAYxRxim74M486IEdQZEDD/gOc/pUmIzjDp/30v6c1Toyja6Nvq1RdBlFNMtqvEk8CHGfmmjXj6Eimfa9O73dt/3/AIv/AIutnhKr2j+BosBXauov7iWlPNQfatP/AOfq2/7/AMP/AMXS/adP7Xlr/wCBEX/xVOOCrX+F/cH9n1/5H9xLS9sUxJbd8bJYm7/LIhH5g4pxeEHmSMD3dQP54rCVKV7WM3hKq05fwFwfSkpv2ixH+su7YfW4i/8Ai6ja80xf+X20/wDAiH/4utVga3SD+40WXV+kH9xNRUH2zTf+f20/8CIf/i6UXenNhUu7ZieyzxE/gA1L6lW/lf3B/Z9f+R/cTmko3W//AD1j4/21/wAaia5sUz5lzbpj+9NGv82FZwoTlpFExwlRu0YktFV/tumf8/tp/wCBMP8A8XR9t0v/AJ/rT/wJh/8Ai63/ALPr/wAj+4v+zcR/I/uLPbFJVY3+lqfmvbTHb/SYf/i6lW4snGYrmCQdMpLGw/Rql4SrFXlF/cH9n10tYP7iUcUlIZbbHMsQ/wC2if41XN9pa433tmM9P9Jh/wDi6VLC1JJ8sSYYCtL4YP7izRVUajo5/wCX+z4/6eoP/i6Pt+lYyL6z/wDAmH/4ur/s6v8AyP7jX+zMSv8Al2/uLVKeaqDUNKP3L6zbHGBcwk+3AerHm2v/AD2i/wC+0/xrKphakNJRsYzwdaHxRa+Q/aRR26VE9xYxf6+6t4/9+aJP/QmFQf2lo2eNQsv/AAKg/wDi60p4GtJXjF29C4ZfXkrqDt6F0Bu3Ffq1/wAEUvi94t+E/wDwUx+E6+F5WSLxLqc/h6/UFsSWd1ayzkFRgExyWylM527nx1r8mDq+iRAmbUrFFA6tdwAf+h1/Uz/wb1f8Ezfib4x+Pek/tu/FnRp9H8HeDhcPoIvoJIJ9S1OVfJW5ijkCOlvbxGRUZl/emUkAKqs3r5XhKtOXPUjaOv5Ht5Nga9KbqVYtRSfl0P7w/BIx4jRRwArCvetg/u14J4IyPEMe7sGr6Ar9Y4L/AN0+Z+48Bf7l8z//0f7oPiP/AKq3+p/lX8BH/B0//wAnd/DD/sUNT/8AS6yr+/b4kf6q3Huf5V/AX/wdPjP7Xfwvx/0KGp/+l9lX5XxErYmr/gf5H4nxX/v1b/A/yP5fsACmuWEMjJ1EUm3/AHth2/kaeVAFMbmKQf8ATNuP+A1+Y0WoyTPyLDO04s/tM+GXww/4Jy+Jv+CcPgjT9P8ABujTeP5dGsmurk2Q84yj/WsZT2zzXz6P2W/2f5rX+04Ph7ayWnXz1tMpjHUd8fhTP2WBbS/s/fD621NsWclraLNnps9PzxX6sncreVHgBPlVVwBjsAOw6V+YcXcXVqFVRSP7X4P4Pwf1RSlG7aPNv2S/hZ/wTB8KfDGaz+NXgbQ5tVe+lkidrETH7O2PLwew9u1fT3/CJ/8ABGD/AKELw+P+4X/9avzi12LT7Lxbq9vpGFtUuPkC9AxA8wD23VR3N0zX0+A4rxKox5Tzsb4dYOpVbu16H6V/8In/AMEYf+hD8P8A/gs/+tUg8Mf8EZTgHwF4fx/2Cx/hX5ob29aQSORjceK7FxZidjkfhphP5mZf7RXwE/Yy8T/GHUL74R+BdLfSLlYhaw29ngnaMMVQdBmvPvBv7N37MuieO9Hk8Z+BbC0toryGW4jntQN1up+faBkNx1ANfWXwSismbWLxx/ponSMkn5lh25QD2PfHfiul+MqWj+BJrm5/18MkRtWPJEuRgL9ehFfn2I40rxzBUbH2tLgvBfVuXl/I+sT4f/4I0ZJXwFoAB9NLFKugf8Eax08CaAP+4YK/MwyHeecDtRvPr+tfoS4rxNuW9j4qfhrhW7qTP01Ghf8ABG0dPAugf+CwV5R8cvB3/BKXXvhRrejfDfwPoa61PBttSmniNg4IOQ3bjP4V8QbznaGqhqTf6II52PlNJEJMf88y6h/04PtWOI4rxXs3dmmH8OMJCalzM8Yt/wBmb4F3dsbux8A2lzBGMGWK0BTgdj3H0Ffdf7Hnw2/4Jw+D/DWrw/G/wVos9zPcq9o0liJgseMEA8bTnqK9btIre2torbTwFhRFWJU4UJj5cYOMYr5M8bxWdr8QdUg00BYsRNIFxtWZgd+B24AzXw/DvGuIqYiSj0Prc14LwlShypKPofo//Zf/AAR0/wChE0H/AMFYo/sz/gjmP+ZE0H/wVivzAy3Xefzpd7D+M/nX33+tmJ7nxq8NsH/Oz9Pxp/8AwR3GdngXQBkY/wCQWK/Nz9q34QfsR+Mvismp/BjwVpX9lPaJEsUFkELzKfmxGPQd6wwzL824nb2PtXqHwYhspPEWqXE2Gu4YohCf4hCfvFfT5s9K8bPeL8THDubPWyjgDCUa17t+p8lWf7N/wB0nWrL+3/AtjZr50bFZ7UKHVSCwGMg/L24r9pbW2/4JAR20UbeBdDDKig50sHnFfLHxSi0+bwBqbaicJDFvjJ5KyKRsK+/pivmWGScxIZeGKgkdMHuK87hXjLEzo860OzPuBMJVaS930P1I8r/gj8vXwPoX/gqX/Cm+V/wR76/8IPoWf+wWK/Lzc3rRuf1r6l8X4rufP/8AENsJ/Oz9E/iLpf8AwSe1bwFrOkeGPA+if2lPZyx2hGmBSsjKdmG7c/lX482P7OHwUvbYPp3gSzvFiULJJDaBk3Ac4Jxn8BXsmqPKNLm2swwh5B7fxY+gr7R0GGwtNFtLbR8LaeSvlbPu4Kgnbj9TXyHFXG2IoxjLc+myPgfB0bxtf1PGv2NPh9+wH4Gvten+NngzR3juVjW0EliJSCmNwKkfKR6V92+d/wAEhun/AAhWhDt/yCl/wr85vibHa2/j6X7AAjS2qPdBeB5gPysQOjYHPtXHb2Hevfyri7FfV4yizyc08P8ACVat729D9ePA8v8AwSgPie1Hh7wr4csb3diGWbTURFY8feYEDNfqzpyWkVlDFpaxpbKi+UIQFjCY42AcbcdMcV/JcT5g2tgg9RjjGO/tX9E37DF74h1D9mPw7P4jLmRRKkBk6m3VyIuvbbjHtX1GUZ7VxL5ah+X8ecH0sBSVWlNn3F4JQL4gjxwNpFe/14H4K/5D8f0Ne+V+8cF/7p8z1uAv9y+Z/9L+6D4jj93b/wC8f5V/AZ/wdQcftc/C4/8AUoap/wCl9lX9+nxG/wBXbf7x/lX8Bv8AwdR/8ncfC7/sUNU/9L7KvyziT/eqv+B/kfinFi/22t/gl+R/L0aYx2W88mAdkErc9PljYint2+lQz4+xXef+faf/ANFNX5nhdakU/I/JcvSdaC80f3ofCj9kz4ceFf8AgmB4F+Ntpc30mqXGiWDPDJJug/fD5gFxxjt6V4ZDr3i21sP7HttYuFtQCoTguF7KJMZxX6JeEjj/AIIv/D4D/oAaX/Kvzdb71fKcV4GksRblP7A8OswqzwUrvZ2P0a/Y7/Y2+F/x0+Fdz4s8V3eoW9xb6jNaKtrNtTZH0JB6se5r6t/4dm/Ar/oJa1/4Ef8A1qn/AOCaX/JBr/8A7DV1/Sv0QAxwK+iyzLqM6EXKJ+VcVcV46hjp06U7I/Oj/h2b8Cv+glrX/gR/9anH/gmb8B8f8hLWv/Aj/wCtX6LUhGRiu7+ysOvsnz0ONMxv/EP5lP2ivhtpvwR+OGo+EfAl7dQRWKQ+XO7BpCrjcVfjDLnp6V514Ysbz4ifEDQ9I8X3s90l5fQ23UKIxIdpZFHAbHQ19Gft2DH7T+ve0dt/6BXgvwi/5Kv4U/7C1r/6FX55XwlL62nyn9JYHGVZZWql9eU/Yo/8Ez/gOHYDUdaxnj/Sf/rUf8Oz/gP/ANBHWv8AwJH/AMTX6JkAu3saXA9K/QVlOHa+E/m6txnmKm0qmh+dg/4JofAgdNS1r/wI/wDsa8h+Pf7BXwb+GXwe17x1od7qs11ptv5kaTz7oySQuGXHIwa/XHA9K+af2wwP+GaPF3/Xl/7MtZYjK8PCk5KJ6GScW5hUxVOEqmlz+cPTtc8U6Vpw0vSdUuILXbxHw2z2RiMgDt6V91fsWfsofDn4++F9c1Xxfd38EthdpEhtpdm7eMsznu1fA0f+qT/dH8q/Zb/glz/yJHiof9RCP/0CvisgwFH6x8O5+5cdZjWoZa6tOVmdx/w7R+BH/QS1v/wK/wDrUf8ADtD4E/8AQS1v/wACv/rV+ilFfd/2Ph/5T+e/9dsy/wCfp+df/DtD4E/9BDWv/An/AOtX5l/tYfBnw58APjJF4W8BXl4qx2STpcSSb5Qznlc4+7x06V/SK44z7V+Dn/BR7/k4tP8AsFQf+hGvF4gyyhHD6RPu/DziXGYjHclWd0fDT3Ws+KtXsbbxLfy3kZniVUICIu5gu7AHJA6Zr9s7X/gmr8B5reOU6hrOWRWOLruR9K/ErQh/xPNN/wCvqD/0Ytf1g6eP9Ag/65p/6CK4OGcuouLjynv+J+eYrC+z9jO1z8/B/wAE0fgN/wBBDWh/29f/AFqD/wAE0fgNjnUdax/19f8A2NfofRX1Ucoofyn5L/rnmP8Az8Py5+JH/BPT4I+D/h5rfivTb3V5LjTbKa5iWS53IWRcgFccivxt0TWvE2kaatnoepz2tvIqnywA6qSM/JkfKPbpX9QHx1A/4Uz4p/7Bdz/6LNfy22fNjBntEn/oIr5HiTL6N1Dl0P2nwyzrE4qlKVeV7H29+xT+zX4E/aE1LxHF46ur9H08QyrLbTbHd5OCXPf2HQdq++v+HaHwDyW+362B/wBfWOPxFeE/8EuV36x4yUfN+7tcD8R/KvwP/wCC9f8AwVr+K+tfGnWf2Mf2dvEF34c8N+FWFl4ivdNk8i71DUJIw7WouF+eGCCN0LmErIzMoV12uD9FkGUUamHUpqyR8dxjxFjaOPnCFTlgj+kbQf2K/wBjOx8Rw28niT+0p45MfYbjVYW3uP4DGG3E/wCzX6R6dp1jpFnDpemxLb29sixxRIMKiKMAL2wB6V/j/prmuRasPEkV/fJqAYuLtb69W43+vnCcSZ9w2fev67P+CAX/AAVp+JviP4k6d+w3+0VrFx4gtdWt5f8AhGNX1CUS3cM9ooLWE0pw0weI7oXbdJhH3sSAT7+HweE1+r6NH53j86lmGjquTXR/of2m+CD/AMVBEPY179Xz94I48RRD/ZNe9knNfrPBf+6fM/UuAk/qOvc//9P+6H4jf6u2/wB4/wAq/gO/4OpOP2tfhZ/2KGqf+l9jX9+XxG/1Vt/vH+VfwIf8HUv/ACdp8K/+xP1T/wBL7GvyziP/AHqp/gf5H4rxZ/vlb/A/yP5djUFx/wAeV1/17XH/AKJeps5qK4H+g3X/AF7T/wDopq/NMGv3sfVH5LluleHqj/Rt8I/8oXvh9/2ANL/lX5vt96v0i8IA/wDDl/4f8f8AMv6Z/KvzckwXYAetfPcW/wC8Ox/WfhnH/YprzP3P/wCCaX/JBb//ALDV1/Sv0QHSvzv/AOCaG0/APUc9tbuv6V+h+5a+kyj/AHeJ+KcZr/hRqDqKZvT0FNJXH0r0WfMQjqfzv/t2qf8Ahp/Xj/0ytv8A0CvBfhH/AMlW8K/9ha1/9Cr3n9u0r/w0/rw/6ZWv/oFeDfCRQPiv4XH/AFFrX/0OvzSuv9ssu5/WWWp/2QtPs/of1Pfxt9aWmSbdx9vb0Ffnj+09/wAFUv2Df2QdUXw38bviDp9rrIyp020Ju7tcdd0cIYr26iv06lTbjeJ/KNSk3OVj9Ea+af2xP+TaPF3/AF5f+zCvzE/4iLP+CW2Af+Ewv/8AwWXX/wAbrxj9oj/gvt/wTU+IfwV8ReC/DHiu9n1C/tvLgQ6dcKC2QepTHQVli6EpUZcqPSyT93iqdSeiTPlWP/VJ/uiv2W/4Jc/8iT4q/wCwhH/6BX8uQ/4KVfsmqiqNXu/ujj7HL1H/AAGv0g/YZ/4Lc/8ABPj4HeGNe0z4geJb20lv7tJYVXT55PlC4OdqHFfF5JgK0K6vE/a+NuJMFiMtdGjNNn9XNFfhh/xEVf8ABLTt4uvv/BZdf/G6P+Iir/glt/0N9/8A+Cu6/wDjdfeeyl2PwD6tPsfua33D9K/Bv/go9/ycUn/YKg/9CNazf8HFH/BLfnb4vvge3/Esuf6x1+Uv7Zv/AAWB/YY+MfxfTxl4D1+8ubEWEVvk2UyncjHPBSvF4gwtSdC0Ufd8AYmnhcZ7Su7Kx69oP/Id07/r6g/9GLX9YNh/x4Qf9c0/9BFfwgaZ/wAFMf2SLXVrS6m1e7CRXETsfscnARwx/h9BX75Wv/BxP/wS5t7WKJ/GF9lEVedNuR0GD/yzrg4ZwdWHNzRPd8S82w+N5Pq0r2P3Yor8MV/4OK/+CWjnH/CZXiZxydNucD/yH2r9H/2Z/wBtv9lT9sLRv7a/Z18a6d4k2JvltoJAtzGvT54D86jI9K+sWHmlex+U/V572PWPjr/yRnxT/wBgu5/9Fmv5bLH/AI8IP+uSf+giv6kfjkc/BjxUf+oVdf8Aos1/LfaY+wwHt5Sf+givg+JV78T928I1ahUufrJ/wS1H/E88Ze0VtjsBgV/AR+3Fe3Oo/tgfFO8vJDJLJ4t1Qux6nayIPyUAfQAV/fv/AMEtSP7Y8Z+nlW/5Yr/P+/bWH/GXHxP/AOxs1X/0YtfQ5Q/+E1r0Pg/E26rVb/3T5e5Nfop/wSSOf+Cm/wABz/1Ny8/9w2/r86q/RD/gkp/yk2+A/wD2Ny/+m6+rtyN/7R8n/wCks/MuHX/tS9Jf+ks/1Q/BfHiRAR/C1e+YHpXgfgz/AJGJP91q99r9h4M/3T5n73wE/wDYvmf/1P7ofiN/qrb/AHj/ACr+BH/g6lH/ABln8K/+xQ1X/wBL7Kv77/iOP3Ntj+8f5V/Al/wdTf8AJ2fwrx/0KGq/+l9lX5VxG/8Aaqn+B/kfivFa/wBtrf4H+R/LlQw/dSKwyGjcEeoKEEflS8dqQ8RyH0jf9FNfmFJvmVj8iwbtVjY/sz/Z9/aM+MXin9ifwH8HL69S40j+y7O2hthEqklfuAuOcDqfpXuafBJzZb73WZ1vCM5jjXyVPoFPUDoa+Q/2ZfCnjbRv2Y/AXjI6TdxW1tp9tPDPJCywuQMBd5wBuBIBr7hT4y+A5bL7VcTPDNjLWhjbzNx6qBjnnoRX5FxpicwVZexP7r4Ko4ZYGPLp/wAMV/hr+0h8c/gZpV54C8IX8VlHBdu86eSrgysPvgnnawx9K9D/AOG8/wBp/vrcX/gMlfN1r4b8d/EC/vvGGlaJe3KXU2P3ELSCMKAAhK8bgOvpWgPhT8U+3hrVf/AV/wDCvpMHiMX7GPMcGNy/LJVX7RK59A/8N4/tP/8AQah/8B0o/wCG8f2oQo/4nkPH/TslfPv/AAqj4p/9Cxqv/gK/+FIfhT8UwP8AkWNVH/bq/wDhXTHEYvZXOenleU32j+Bq3t542/aC8a6h4x8X6h842Rz3ESKHkcDhEB4AC1V1/wAIav8ACya08ceG717lLC4jkPnKN8TAjbID0Kg9QelN8H6/L8MdWvvDvja1nsUuJEmzJGQ8L4wVkTGQpHINXvHnj3SvGGlDwb4N33730iRySqp2hM/dUfxMcYAFfA1sRmCzFRXwn2mHw+E+qpLY+cf+Ch//AAVw/a5+CXwX/sfwb4ohste8TS/YoJ0tELwQYzNLHyAJAmdjHgNjII4r+Qa81TUdQv7nVrudpLu9lM1zcOS088rdZJpG+eRz3ZjX7W/8FkPC3irw1c+A18RaXd6aJVvfLFzEYw21D0yOwr8QiSOCK/b8JVqww8U9Ln8deIuKcMdKlQ0j5E/2y76eY/50hurpxsaRsH3quAO9IxQHANKTkz845pMkLuD96npczpxG7D6Gocp0JoeSNccgelJRtsF2nZFn7bef89W/Oj7bef8APVvzqpuT/JFG9B/+sVWoWmW/td2esr/majaeeTl3Yn3Oag3pwAQM+4p3BHy4xSafUTckSrJxyxqU3l0v3JX/AO+jVb5QDnsKaNp+5z9KcU+g43Sui2L284/fP/30a9M+DPxo+KH7P3xQ0z4zfBvVX0LxXpLFrTUIV+bJ6xSgbfNgfjfG3B6jDAEeVLgHJpyAvIo9SBW2HxM4y0OnCYupTneDP7ffhH/wUv8Aj9+0X+z1YeMtV1mM2uu2Bjv7eO3RSH27ZYx/d54rX0D4OXF/pUN5r+oTW8zoCkVuBtjBHygk/eIHXtX5of8ABMnwJ408Q/sSafrel6VeTaf9r1D/AEyOFmgXy5epYDGEI5r9VNC+MfhSTTI18RytYXiIFeNlOGIHVCODn26V+TccVsdGaVBH9teHyw0sFGWidih4B+Kvxb/Zw8TajpHgzU0tpr2NGabyg6zxfwttPCsDwcdq/i3/AGhtZ1DxB8dPGetas/mXV5rt7NM2MZkd/mOB9K/sbuLfxR8WPFc+seEtIvb2G1hWCOOKEu4T++4A+Xdxtr+Nj47Wt3ZfGbxbZ30bQzQ61eI8bDDKwfkEV9fwpUxDwn77yPyTxqp0lFez36nktfol/wAEkv8AlJx8B/8Asbl/9Nt9X521+iX/AASTOP8Agpv8B/8Asbl/9Nt9X2+Sf7wvR/8ApLPw/hz/AHtekv8A0ln+p/4M/wCRjj/3Gr3+vAPBg/4qJD/stXv9fsXBn+6fM/e+Af8Acvmf/9X+6P4j/wCqtf8AeP8AKv4EP+DqUf8AGWPwq/7FDVf/AEvsa/vv+I/+qtf94/yr+BP/AIOph/xlh8Kv+xP1X/0vsa/KeI/97qf4H+R+LcV/75V/wP8A9JP5cRwajuD/AKHdHH/LvP8A+imp9Rz/APHndf8AXtP/AOimr82wX8WPyPyTL1+/gvNH+jh4O/5Qt/D4D7o0DSwPXH+Nfm2zHeR6HH4V+kng0f8AGlz4fL/1ANL/AJV+bTf6xv8AeNfP8WJLFWif1v4azk8HK76n7n/8EzWb/hQt+P8AqNXXp3xX6JfNjGa/Or/gmd/yQbUP+w1c/wBK/RMEntX0WURTw8T8T4yrTWY1NR3zetN3HG7NOpmRsya9RQj2PmIYipfSR/PB+3WXX9qHXcHBEVuBjj+CvAfhMWPxW8LZP/MWtP8A0Ovfv27uP2otdH/TK2/9ArwH4Tf8lX8L/wDYWtf/AEOvzTE3WK+Z/V2WN/2Sn/dPCP8Ag61J+2fBs9z/AGr+ltJX8d5AzX9h3/B1scXnwa/7i3/pNJX8eANfpebx5Y0/Q/k/imV5wk+xZtoknuI7cnAdgv51/SD+zJ/wQ38A/Hr/AIJ26H+2lqPxB1XTr7VtM/tA6XDBbG3jJfbsDNE0nA77vyr+cTTv+QhDj/nov86/0Ef+Ccrf8aE/BZ/6lsf+ja56Fo4WdTr/AMA34PwtOpJKa6pfJn81Y/4JJ+EioP8Awmt/zj/lhD/8RX3F+yV/wby/Dr9ojQNX1bUvifrWmNplwsCLb21oQwZc5O+Fv0r6XT5Y0A9P6V+yn/BLwAeCvFX/AF/x/wDoFfMZPm1aVezenoft3F/COCwWAdfDQsz8iP8AiFX+Ff8A0WLxF/4Caf8A/I9H/EKv8Kh/zWLxF/4Caf8A/I9f1i4HpRgelfd/XJ/0kfiH16fl9yP5Oh/was/CkA/8Xi8Rf+Amn/8AyNX56ftP/wDBCfwJ8A/iYvgWw+I2ralEbOO58y4trZXBYkY/dxIMfhX95zAYx61+DP8AwUfP/GRCEf8AQKg/9CNeHn+Y1I0NPyPteB8HTx2LVHELSx/MxY/8EivBt3qFvZP431BVnmjiyIIMjewXIymOM1J/wV1/4JG+D/8Agm74A8A+MvDHjXUfFD+LtQnsZY76G3jEPk2klyGjMEadSm07s8V+v2ijOuWA/wCnuD/0YtJ/wdP8/Az4JAcZ1+8/9Nc9cPDmMnX5oz2/4B6/iJw7g8GoQw8bJ3/I/imAwKt2Q/0uHH/PRP5iqp9Ks2J/023H/TVP/QhW+H/iI/CcK/3sfU/vj/4IPl/+HHEHP/Qx/wDo5q+UbAkafbgcDyk49PlFfVv/AAQgOP8AghxD9fEg/wDIz18o2H/Hhb/9co//AEEV5fGSSraH9VeF8n7Koux+sf8AwS0JTXPGeM48m2/lX8AH7auR+1x8UM/9Dbqv/oa/yr+//wD4Jbj/AInfjP3htq/gA/bW/wCTt/ih/wBjbqv/AKMSvYyezy1+q/U/N/E6V61Vdmj5dr9EP+CSv/KTb4D/APY3L/6br6vzvr9Ef+CSn/KTf4Dj/qbl/wDTdfV2ZH/vC9H/AOks/MOHP96XpL/0ln+qF4L/AORhT/davfa8B8GH/io0H+w1e/V+x8G/7p8z984CX+xH/9b+6L4jn9zbezH+VfwL/wDB1MMftX/Cr/sT9W/9L7Gv75/iP/qrYf7R/lX8DP8AwdTf8nXfCn/sT9W/9L7GvyriT/e6n+B/kfi3Fn+91v8AA/8A0k/lsqOf/jzuh/07T/8AopqkqOcH7JcAdTBMB9TGwFfmuD/ix+R+R4C3t4X7o/0cPBn/AChd+Hx/6gGl/wAq/Nsg72J/vGvtT4cfGj4Wa3/wSQ8BfDvStbt59aj0LT1a0UnepjHzZ4x8v1xXw62qWrbpkEjxAn96sbmP67guMfjivm+Kq9N4m6Z/XXhvh5wwcrrqfuz/AMEzfl+A+of9hq5/pX6JZwMgV+S37A/x1+Enw5+Dt5oXjXXbXTryfVZ544pWOWibG1xgEYNfl7/wU4/4OI7L4J+Mbz4G/sRW9hr+saayx6l4jv1aSxt5WHNvawphp5UGC54RM4znIH1GSShKhGKlsfjHGuDmswnKasj+qzcKa33cV/nRTf8ABwv/AMFO3YlPGulKD2GjjH4fvKpt/wAHB/8AwVAz/wAj1pv/AIJ0/wDi69p06VvjR8qoUV/y8R/SR+3cc/tQ67jtFbD/AMcrwT4S/wDJVvC5PT+1rT0/v1/Mn8Rf+CqX7aPxR8X3Pjbxh4ot7jULpUV5I7KONTsGFwvOOK5jR/8AgpJ+11oOsWmu6d4kijuLKVJoWNpGQrIcrxgdK+ErZO3iOfm0P17DeJ2ApYH6r1tY/oY/4OuFYXnwZJHAbVR9P9Gkr+PPGBX2j+11+35+07+3BLok37RniCPXD4dEosfKtUthH56lXzt+9kHFfF3O2vrc0xCmoRXRH4dn+PhWcVDoXNNONQgH/TRf51/oI/8ABOP/AJQIeCz6+Gx/6Nr/AD7LBljvYZH4Cutf3hf8E6fjV8LLH/giZ4L+F9zrVuviBdA+z/YsnzPNEvK9Mdq5vaRWCqXf9WZ9FwJRlOraC15o/qfO4+6g9v6Cv2W/4Jej/iifFX/X/F/6BX4trf2+z5BJIsf33jjd1XAHGVUjj61+qH/BPj42/Cr4ZeE/EVt461u3017y7jlhEpPzoFxkbQa+HyOtD26Z/RvH2FqTyyUIRu9D9oaK+bf+Gvf2bMf8jdY/m3/xNM/4a/8A2bB/zN1l/wCPf/E1999eo/zI/nH/AFdxv/Pt/cfSbDjivwX/AOCj/H7Qyf8AYJg/9CNfqt/w1/8As14yPF1l/wCPf/E1+OP7dvxL8CfEH41J4m8G6jHqFgNPitxLEGIMqscoBjJI9hXg8QYmnKhoz9C8N8oxFLH81SDSPlPReNe08f8AT1B/6MWm/wDB09x8Dfgj/wBh+8/9Nc9UdK1K2g1uyN1vhMc8UhEiNGdiOpJAYDOB2Fef/wDBzF8Zfhj8T/gv8G7HwBq8GpyWOuXclwsRP7pP7NnQE5A/iIXHv7VhwhWgnLXo/wAj6DxWw8nGE0tEn+R/HsetWbIf6bAf+mif+hCq2D0qezIW7hZjgCRT+RFevh3+8R/MmGa9rE/vk/4IPj/jRvDn18Rn/wAjPXyjZZFhbg9ok/8AQRXrP/BEL42/Cjwf/wAEbrb4ceItcgtdblk16NbR93mFppmKAYGPm7V45bXsUdvHDGskrRRosnlxtIFIUcEopGfavF4xrwdXRn9YeF1CUaNSTWjP1t/4Jb/8hvxkP+mVt/Kv8/8A/bV/5O4+KH/Y26r/AOjFr+7X/gnl8Yfhp8M9V8UXXjnV4dOiv4YBbtJnDlOCBgHkdwcV/B1+15qdhrf7U3xI1fTJRPbXXinVJYnXoyPINpH5V6+S1Y/2c437H5l4pUZwq1XJb2sfN1foh/wSU4/4KbfAf/sbl/8ATdfV+d9fod/wSX4/4Ka/AfH/AENyf+m6+r0sk/3j5P8A9JZ+YcOf70vSX/pLP9UPwZx4kT/cavf68B8FjHiSP/daveS5BxX7FwZ/unzP33gL/cj/1/7ofiN/qbb/AHj/ACr+Bv8A4Opxj9q34Uf9ifq3/pfY1/fN8R/9Va/7x/lX8Df/AAdVf8nWfCf/ALE/V/8A04WNflXEf+91P8D/ACPxfiz/AHur/gf/AKSfy0UMcROfRG/9BNFDFktpnUfdhlb/AL5jJ/pX5lSheUUj8ewsW6kUj+sX9le2tbn4A/D7T7vCwz2dpHIRx+7PUZ9DwDX6qpa2lvB/ZttCiwqCgiCjYFH8O3pjFeG/CD9kDQvC/wDwTT8C/HOLV7ieW50SxkNmVXaPN9G9R2Nefp44+INpZDSrfVF8tRgSNDumAx/f3Y49cV+S8Z8OYipWUYytY/uzgnN8PLCR5V8KSOP+IUFt4em8T2ugYEdnHO8CjBCN5JbaPYN26V/GxqNzc31/PeXx/fTTTSyf78krs/6k1/oU/sqfsV+G/wBoD4c3Xi/VNdubF4b+a0KLGHD7fvM5PUtn8q/nC/4Kh/8ABD79oL9lXx5f/Eb4G6Xe+Ofh7qcrXKz2EPm3umzSsWljuLZfmeDd8ySISVyVK4ANfo3DOWVlh1Bn4b4t4qnjaqpYd6xPwE5U802u8n+Gvju2uGtbjRdTikThkfT7kMuPUFOKjX4ceN2+7o2pH6WFyf8A2Svc+oVF0Pw15dW6ROI7Uc4rprjwj4ntJjBPp13Gy9Va2lU/kVzTY/CfiaaVYotOu2LcBVtpSfwAXn6Vyqnryo1jlOI6QObAOOBR7V0WueFvEfhoxLrtjd2Pnf6sXdtLbFsf3RKq5H0rnuOo6VpUpSg/eRxVqE6crTRLb4EyE+oFf0z/ALBbiX9j3wespCCRfKZhwVjabYTn6Gv5m7NPNvIo+m5gPpX9rP8AwT4/ZB8Pan/wSZ8HftAS6vcfaG0hrs2exfL+aTbtz9PauLM8FOrhJcnkfq3hJjKeHxbqVNtEfWWn6fYaTYxabp8Sx28KgKFAxjHBOOua+TPGWm6dpXjzUtO0tAkAEUpjHISSTdvAHQDpwKdpnjXx7pVgmmWGor5AXCGWLfIgI4AbcOAOnHFfXX7JH7JGiftF6Lreua5rV1ZTWV0qMVUO0xcZLMTjHTgV+RcOcOYqniZSbunsf1RnmeYbD0PaVNj4n2pj7q/kKjMSddq/p/hX7M/8OvPBP/Q1X/8A36T/ABoH/BL3wTjnxVf4/wCuaV99/YFfsfC/8REyn+b8D8Z/LXbnYDXp/wAG9P0658SanqVyEa5sliWAHHyK4yXAPGSeM1+pH/Dr3wTn/kar7j/pklfn1+0n8HP+Gavi7D4Z8IavNPKLJJxcyKMkOcGN1zgrXj55kOJeFcU7Hs5DxngcVX5KDJvippum3vgXULm+AV7SIzQyHG5HQjGD19sd/Sv58f8AgrWd3gPwTIVCs+oTFsDHP2du1fspe6z4p8Z3lppXiW8Vrd54k8mFPLQksFBYAndjPA6V8kf8HC37Kmifs9fCb4Va1pWrXGpSaxrN1C6TKoCYspZsjHqVxU8BZFXofE7v/gHi+K2a0PqboW1e3yP5VzuDZNOjPzqfcUHn8KfaoHuoozwGdQfzr9EhG7sfx1CD5kup/Rv/AME32MP7HFhJGdrC8vjuwOP3vJB7YFfuR4d0zTtE0K3sNGQR2wiQjaB824ZJ9z9a+If+COv7Kfgz4i/8EuLP416pr8ljfQza1L9iOzy2+zSkAHJzhgB/Sup0Lx54o0DSY7HRdWgS3KKUjnCymMMM7UbcOPQEV+Z8ecP4qtL907H9qeHWe4WOAhSe6SOn+ImnadpnxBaPTY1Rbm3WaZFHCydAcdAWHWv42fjZx8XvFIUY/wCJvd/+h1/dH+yb+z34Z/aO1zX38W+I5LOexSKQzKyFpTJ2PPCqOgHSv4iP2o9AtfC37R3j/wAOWc32iKw8RahbJJx86xuMHjjv2r6vhfK6tHCe90sflvjPmlGvFRpbxPAa/Q3/AIJMcf8ABTX4D/8AY3p/6br6vzyr9Df+CTH/ACk0+A//AGN6f+m6+r7PJP8AePlL8mfinDv+9r0l/wCks/1RPBf/ACMsf+61e8HrXg3gv/kZV/3Wr3/A9K/XuEP91+Z+/cBf7kf/0P7pfiT/AKu2/wB4/wAq/gZ/4Oqv+TrPhN/2J+r/APpwsa/vm+JP+rtv94/yr+Bv/g6qH/GVfwm4/wCZQ1f/ANOFjX5bxF/vVX/C/wAj8X4s/wB9rf4H+R/LNUdx/wAeV1/17T/+imqSorj/AI8rr/r2n/8ARL1+ZYP+LH1R+R5f/Hh6o/0c/Bn/AChc8Af9i/pn8q/Nt/vGv0k8G/8AKF3wB/2L+mfyr82nwCfqa+f4r/3pn9aeGa/2SfqfuV/wTO/5ILqH/Yauf6V+iTKrKUYAg8HjjFfnX/wTN/5INqPtrdz/AEr9F6+kyf8A3eJ+IcZP/hRqepgSeF/DUr+bJptqzephTP8A6DTP+EW8MD7umWn/AH5j/wAK6Ko2xtH0r07nzMZan8537dOjaNF+07rscdnbqPKtuFjUAfJ9K8F+E+maZ/wtXwv/AKLBj+1bT+Bf749q+jv27wo/ag10D/nlbf8AoFfP3wqOPin4XP8A1FrT/wBDFfmlaT+t/M/qvLMPD+yk7fZ/Q+fv+Dq6xsLKf4Nmzgjh3PqoPloq/wDLtL6AV/H4a/sO/wCDrrHm/Bgj/nrqv/pLLX8eFfpmcL3aXofyvxTBXp+hd03/AI/4R/00X+df6B3/AATgP/Gg3wX/ANiz/wC1K/z79P4v4D/00X+df6Cf/BN3H/DhDwUP+pZH/o2uWP8AuNX+u56XBPxL/FH9T4nX7i/7o/lX7Kf8Evf+RI8Vf9f8X/oBr8aYz+6X/dH8q/ZX/gl5/wAiT4rA/wCf+L/0A18LkL/fo/onxIX/AAlu3kfqdRRSZGM1+hn8vDf8/pX4Nf8ABSHP/DQ8X/YJh/8AQjX7z8V+DX/BSP8A5OHj/wCwVF/6Ga8HiP8AgP5H6V4Xf8jD5Hwro4/4ndhjtcwf+jFpv/B1AcfAz4HD/qYbz/003FO0fjXNP/6+oP8A0Yteuf8ABzf8H/EPjT9jLwL8WNKQyWXgbXY5r4KCdkV9bvZ+Ycfwp5uTngAZrk4RVpS/rofWeK1r0vR/lY/hMBweKSnSIYpGhcYZeCPSkwa7Hoz+ZWuWR02neMvF2k6d/ZGlavqNpajP7i3vrqCH5uv7qKVY+e+V5quPE/iNRtGo3nHH/HzN/wDF1gUVtPETnZN7HYszrpJcx1tj468baXufTda1O13/AHvI1C7hzj1MUq5/GuZuJp7qZrq6dpJXJZmclmJPckkkn3JqHB6UlKeIm48rehnWx1WpHlm7hX6Ff8EnP+UmXwH/AOxvj/8ATffV+etfoL/wSiDn/gpb8CBGwQ/8JfHg4z/zD76u/JP4/wAn/wCks7+Hv96XpL/0ln+qb4K/5GOL/dNe7nrXg/gn/kYox7NXvB61+wcI/wC6/M/fuAf9x+Z//9H+6X4k/wCrtv8AeP8AKv4Hv+Dqz/k6n4Tf9ifq/wD6cLGv74fiT/q7b/eP8q/ge/4OrP8Ak6j4S/8AYn6v/wCnCxr8s4j/AN6q/wCF/kfi3Fn++1v8D/8AST+WTjFQ3BAsbrI/5dp//RTVLQy7reZT0aKRTj0ZCK/MsM1GpFs/IsC7VoPzR/o2+DMf8OXPh+R0/wCEe0v+Vfm0/EhPGMnrxV74EftV/E7xT+wf4F+CF9b2b6Uuk2dvEsSETsU+4N3T/wCtXoEXwZ8Ry2LT3GqxRXRGfJEWYVP90n73HSvh+Ls+w0cSnN2P7K8Pcoq0cFr1dz9fP+CZ/wAvwJ1FTxt1q5zn8K/RQMtfze/Bf9rT4wfs/wDh288CeF7WxVUvJJLhLhGZhK3XaRjK4xivXv8Ah5H+0R/z76T/AN+W/wAa+jyviDDxoRR+c8S+HmOr4ydWnsz95cimbcAYr8Hf+HkP7QX/ADw0n/vy/wDjSj/gpB+0KRt8nSeP+mL/AONd74jw54cfC7MOyOC/buyP2oNcz/zytvz218/fCjH/AAtTwuD0/ta16ezit7xT4h8d/tIfEfUfGWsNb2s+I47qeKP5AQMLHGh74656Vh6l4d8S/CfVdO8aWF0moQ2VzE6yMmwxSKfkLAcGMng9CK/OsRneE+u8l+p+/YHKKkMt9i9+Wx4T/wAHXAzJ8GW9ZNV+n/HrLX8d561/Q9/wXi/aV+IX7QE3w3g8dJaI2m/bpIvsqlR88TIcg+x7V/PEegr9YxmMhVpUuTsfyLxtRdLEKjPeKLNiRFewyPwodc/nX9qX7DP/AAUG/Yk+Gn/BG7wt8BvHXxN0PS/GNjoX2WfSJrqMXcc3mZ8tosgg49q/ijPIwati+vBF5KOdg6DA/wAKzw+KiqUqU9meXkWcrCO7Xmf1Lr+2t+ygI1T/AIT3Sxx/z1Hp061+oP8AwT9/4Khf8E/fhZ4V8R2Xj/4raDpMt1eRyRJcXCoXULglRnkCv4IxcS9Sxz+FSR317F/qZCv0A/wrzMvwWHo1ObU+5zXxSqY6j9Xrw93yP9Ns/wDBaD/gl2vH/C6fDX/gXH/jXSeEf+Cuf/BNXx1rtv4a8OfGfwvJe3ciwwxPfRIZJG4VV3MASewFf5gX9p3/APz1P5L/AIUj3t5IpjlYSI3VWVSD9eK+ieOw/RM+LeY4Tsz/AGD7W7tr61S+sJVnglXdHJGQyMvYgjgj6V+En/BSEf8AGQ8R/wCoVF/6Ea/nl/4I5f8ABVf9pP4OahL+yrLqqavoF3C9zpC6pvuGsZYgPMghkJ3GFxhwjE7CWAO3aF/Yj4g/EL4iftP/ABEPiDXntbe7trVIpp4kIjiiBO1QneQ/yr5Ti3McPSpJN6H7P4W5K5Yn63T1jY8n0Uj+3bAf9PUHp/z0Wv6gfH3ww8BfGf4X3/wr+KGmQ6x4f12x+yX1lOoaOWGRNrKQf0r+afxN4B8Q+BrZPElpeDULa1ZJZA0YR49jAhuOCBjkY6V9dw/8FGf2hYIUtkj0rZGoVf3LHgAAd68HhbiHDqLlBn23iFwpjMZKHseh+FP7Yf8AwbTftS/DbxTda1+yVf2XjrwpLcv9ksLyZrTVbO3I+SJ5m81LrZ90P5aNsxvZ2yx+HP8Ahw7/AMFSjx/wrVMe2qxf/I9f1en/AIKP/tE9Nmk/9+W/oaT/AIeO/tEYyE0r/vy3+Nfbf614KWs6ev8AXY/PX4Z4uTcp0ot/d+R/JnrX/BDP/gpx4f0W717VPhwqW1lE80rDU4mKxoMlseQOlfLif8E/v2tHVWXwqTlQR/pMfQ9P4a/tP8V/8FBfjt4k8K6hoGtpposry2kgnKQtu8txtO056+lfM/h/4Q6/qmjwXeo3w07dGDHbpGHIXHy7ye+Owr5rO+MsJQSkopfee3lPg9Tr6V48r8j+aP4V/wDBI79vr4z3N3Z/D3wML6SwCtMDfRxbA3TrE1fn74y8H+Ivh/4r1TwT4ut/sup6Pdy2N3Dnd5c8B2uuRwceoGDX9znwg+OPxT/Zi8S6ppvhtLM3V7HH5rSoWjliX7jJz8p9RX8VH7R2vX3if4+eN/EOp7RcX+v39xL5Ywu+RxnHtxXr5fm1DFYbmhHU/O/EDgulldNcqPE8Y4r9Bf8AglB/ykv+BH/Y3x/+m++r8+a/QT/glGcf8FLPgSfTxfH/AOm++r18l/j/ACl/6Sz4Hh7/AHpekv8A0ln+qb4K/wCRlj/3Wr3kjmvBvBWB4jRfRWr3vZX7Dwh/unzP37gH/cfmf//S/ul+JP8Aq7b/AHj/ACr+B/8A4OrBj9qf4SH/AKk/WP8A04WNf3wfEn/V23+8f5V/BB/wdWH/AIym+Eg/6k/WP/ThY1+W8Rf71V/wv8j8X4s/32t/gf5H8sWMAGkbHlP2ARv/AEE0o6imXDFbS6Ze1vP/AOimr8xoU1Kaij8gwcb1YpH9aX7LsWq6b+zr4B1tLWX/AESxtrhd0bBGCjkbiNvTOOa/Q+L4peALiwOptqUcQILNE3EqnGdpjx972r6K8G2loP8AgjF4AmWGMP8A2BphB2LnP1xmvzceKITNMUUtkkHAyPoetfm/GHC1KpiP3j2P7Z4Dz51cGkl8OhrXkuqeKtbv/EtvZT7LuQbFWJ22ooAXdtBGT1x2qP8AsbW8Z+w3P/fiT/4mv2x/4JqWVpc/ArUWnijc/wBs3HLID0x6iv0O/snTf+feH/v2v+FfSZfw0nRjys+MzvxNWFxUqPJex/KANG1z/nwuf+/En/xNL/Y+uDpYXX/fiT/4mv6vxpWnAY+zw/8Aftf8KRtO0/H/AB7xf9+1/wAK63wv/ePLj4urpSP5cvht4t0/wXe3uheJc2SXMomhklUqqsV2lHyAV9RkVt/E3x1oesaHJ4P8Ozi+uLxkRzENyRxg8ljj7x6BRXrn7dcEUf7TWuQxoqoYbcbQo2/c9OleAfCeCEfE7wxAiKqHVbUbQPl5cdq/PcTwpRePVRPY/Y8Hn0pYBVnHpc/CT/gr7pmoWVz4EubyCSBWW8QeYjIT8pPG4DoPSvxZwQBX9hf/AAdZwW9s/wAF/s0aR7p9UB2gAcWkp7Cv49CR90DGK/Ya+X/V6NOPkfx7x5iPb4tYj+b/AIYAM09VDDrxT7aJp50gTguwXiv3l/Z6/wCCF3jb4/fsOaT+2tY/EW002y1bTjqCaU2niR0UPtAMu8Z/Ks6eHcoOfRHyuCyypiNIeh+ChxjI6f4UoyDtr9hF/wCCR/icgM3je25/6cv/ALOvsj9mL/g3f8XftHaPquqQfFG20oabOkOP7NEm4sCc8v8AyxXLh6tOrPkTPoMVwNj8PD2laFon82Q29yKCwXoa/ryH/Bqb4vx8/wAaIfw0iP8A+Krp/CX/AAaoLFrtvL42+M1xLpysvnR2OmQwyuvdVdt+zI6EDivXjliv8R48co11kfz7/wDBMz4ceKfGf7TNr4i0iynmsvDdrLc3c0ULyLG0wCxIxVSoZgMhSc4we4r+m7wD4kt/AviC8tPEqPZ22oCNhJMjL5ciDbhgQMKRjDV+9X7H37D37O/7DPwkj+EPwD0VbOzd/PvLu4Pn3l7c4AM9zM+WkcgAcnAAAGAAK/NH/go7DDD+0DCkKKiHSYflUAD757CvkeM8kp1qPLf3T+gPCnO6eHk8DTXzPnb4i/ETw9c+HrnQdDuY7+8v4/KVYfnCBurNx2ryNNB1yKNI1sLoqqgD9zJgjH+7S6HBFHrNjHEoVftMIIUYGPMX+lf1Z6Zpun/2fb7YIh+6jH+rXso9q+b4V4XhCk6cGfe8bcbPLuV8t7n8po0XW+n9nXX/AH4k/wDiad/Yeuj/AJh11/34k/8Aia/q/Gm2AOfIj/74X/Cn/YLHHEEX/fC/4V9W+FXbc+BXi9/07P5MtQ0DXXsJU+wXMe5chnhkCDHTJ24Ar6B8O/FHwhqGkpNqN5FYXUMYWaKU7GVlGDjjBHoa/fv412Fgvwe8UusMYP8AZV1/Av8AzzPtx0r+W62jilsrd5UVyIoyNwBx8or4/i7hSlLljN7H6PwRxe8fGU+W1jtfEeryeOfFz6r4ft5ZrW2hEERjjZt/dnwoJC9hmv44/jdHJF8YfFcUilCusXmQwwQd/pX+iN/wS7gguPEXjEzRq+2C3A3KD6ccjpX8Af7aKLD+1p8T40GB/wAJbq3A6D94vQV9jw5k0KGCc4vsfj/jDmrxF6TXw2PmGv0D/wCCU3/KSv4E/wDY3R/+m++r8/Pavv8A/wCCVHH/AAUr+BP/AGN8X/pBe19Nk38f5S/9JZ+NcP8A+8/KX/pLP9VLwXg+JUx/dYV73vxxivAvBA/4qOP6NXvR61+v8H/7p8z9+4C/3L5n/9P+6X4k/wCrtv8AeP8AKv4IP+Dqwf8AGUvwkP8A1KGsf+nCxr+9/wCJP+rtv94/yr+CH/g6u4/ak+En/Yoax/6cLCvy7iH/AHqt/hf5H4xxZ/vtb/A/yP5Ye1RXH/HldD/p2n/9FNUlRz/8edz/ANe0/wD6KavzTB29tH1R+R4CP76Hqj/Ry8Fkn/gi38Pz/wBS/pdfm0/JIr9JvBQx/wAEWfAA/wCpe0v+lfmy/Un6185xav8AaWf1l4Z/7nL1P3K/4Jmf8kI1P21m4/pX6K1+c/8AwTNP/FidTH/UauP6V+i9fT5Ov3ET8S40T/tGoLURPyj6VJimNjZj2r0X5HzEUz+eH9u8EftP64v/AEytv/QK+f8A4U/8lS8MZ/6C1p/6GK+gv28uP2oNc/6423/oFfPfwpz/AMLR8MN6ara/+hivy/EWeK+Z/WWVL/hJjfpH9Dwz/g66K7vgtnvPquP/AADmr+PHbnmv79v+Dj39izx1+0n+y7onxj+Ftpcalq/wwvnv7qwtUaWefTZ4mhuvKjUFneJHMoVQWYrtHWv4D1tnmQT2eLmJvuzQfvI391dOD+HTpX6jmUJVKVOUFsrH8pcQ05VuSVJaLT8STTsf2hAOP9Yor/QY/wCCcII/4IKeCw3/AELOMf8AbWv4GPhx8L/iL8XPiDo/wn+F2mvqfijxFOLLS7FQQ8ksny+aQAWWGAHzJpNpCIp9hX+lvo/7PFh+yd/wTDtP2eLBlf8A4RXw5DZyOOjzLt80/wDfeR+Fc1SlOGDnFrc9ThOjOlUhz6XkvwPxOi/1af7q/wAhX7Jf8EvD/wAUd4sH/T9F/wCgGvxuj+WJP90fyr9kf+CXox4P8V5/5/ov/QDXwWQJfWLH9D+I3/IqaP1R2j0oxS0V+i2P5e5RjDHPtivwc/4KQf8AJwUH/YJh/wDQzX7xt0r8HP8AgpFgftCQgf8AQJh/9CNfPcR/7vY/SPC7TMfkfDGinGuWJ/6eYf8A0Ytf1e6Z/wAg2Aj/AJ5J/wCgiv5QNH/5Ddh/18wf+jFr+r/S8f2Zbg/88k/9BFefwvbU+n8Xv+Xdy8vIzTqaAMcUHIFfYWPxGKseX/Gz/kjvin/sFXX/AKLav5ZrP/kHwf8AXJP/AEEV/U18bR/xZ7xTz/zCrr/0Wa/lmsv+PC3x/wA8k/8AQRXxXFC99H754QJ+wn2P1g/4Jan/AIqHxp/1wtv6V/AF+2qP+MuPief+ps1X/wBGJX9/n/BLc48ReM/+ve3/AKV/AJ+2t/ydv8T/APsbdV/9DSvoMp/5FzXofBeJv8eqvOP6ny7X39/wSo4/4KV/An/sb4v/AEgva+Aa+/P+CVf/ACkp+BX/AGN0X/pBe11ZO/33yf8A6Sz8w4e/3lekv/SWf6qfgjH/AAkUePRq96PWvBfBC/8AFSRkdNrf0r3/AGrX7Dwf/unzP37gH/cT/9T+6X4k/wCrtv8AeP8AKv4If+Dq/wD5Ok+Ef/Yoax/6cLCv73viT/q7b/eP8q/gf/4Orf8Ak6T4Sf8AYo6x/wCnCwr8t4i/3qt/hf5H4xxX/vlZf3H+R/LFTZubK5TubeYDHvEw6U6hm2xP/uN/6Ca/L8PLlqRaPyDBO1WEvNH+iJ8PvHvgfUv+CPXgHwtp+sWcup/8I/pqm0SZGmBUcjZnPH6V+esmraWHZGnQYOD6DHYsOAa8G/ZWsrS9+APw/wBPkVY1u7K1hkcKA2xh8wB7ZwK/UmHQtEs9P/se3tYTagbPLKAjA+XGf51+ZcZcVwpV05R3P7d4GyD2WCvF76n2t/wTw+IHgHwh8FdR07xVrdlptw+rzusVzOkbbGAwQCRwfWvvcfGv4O9f+Ep0r/wLj/xr+XbWtE0zRvEmp6JaIslvaz4j3KGIVxnZk9l7e1Z/2Gw6/Z4f++F/wr6XAcSSjRjyx0PlM68MqOKxUq0pWP6nP+F1/Bv/AKGjSv8AwLj/AMajHxt+Dp4/4SnSun/P1F/jX8s/2HT/APn3i/79r/hR9i0/G028WP8AcX/Cuz/Wqa+yeX/xCCh/z8Pq/wDbe8S+HNa/aL1nWtIv4bqzkitwk8Lho3KpyFZeDj2rwf4WarpkfxJ8PXks8aRwalbSSMx27ED8lgei4rovg1oWk6hNqGvXkKPNbTC3hQgYjXbksF6Zb19K6f4x+H9Kk8KS+I1RY7ywZWjdVClgSAUI6Hd09q/O8RxVGOPVHlP1vDcPOOB9gnpax/Qs/wAafgu6lG8UaSy9NpuYsEEdPvYx7Yr8mf2gf+CV3/BGv9pPxnc/EPx/oWg2ms3zmW7utJvlsGuJDxvl8kjecAda/NFrKxz/AMe8X/fC/wCFN+w2GMfZ4v8Avhf8K/SafF1SCtA/Lf8AiFlNN8tSx+3P7Jn7K3/BM/8AYghnk/ZvsPDWg390qpc6j58ct9Kq/dEk5+cgZOK9d/al+LHwu1v9n7xVpOj+I9NubqezKxwxXCO7NuXAAB54r+er7FY9fIi/74X/AAqne2tskQhijSIyyRx70VQVEjBSRx1weKwxvFU6kGprob4XwxpwrRqyqNtD/wC0tOhUxTTKhQAMD/DgDqegr9c/+Cb3j3wN4Q8JeJYfFmsWemvPeRPGLiZULjYeVyRkV8t6b4e0PRdNXR7K2i+zooXBUMW47k9z1r5V8X6FpOh+Nr7RtPjT7MqxTohUERmXdlRnt8vFfB8O8VRninCMbWP0PibhtYvCfV6j0P6ef+F3/Bz/AKGjS/8AwKj/AMad/wALx+Dn/Q0aUP8At6j/AMa/lnFlYf8APCL/AL4X/Cl+xWP/ADwi/wC+F/wr7/8A1ol/Kj8s/wCIRYf/AJ+H9Sb/ABw+DmMDxVpef+vqP/GvxO/4KD+LvCniX45Ra34f1G3vrNdMijM0EivGG3n5cjuPSvh4WlmpysEWf+ua/wCFej/CPw/pGq+IL3Ub6GOQ6csSW6EDapYZL7emewrxOIOKP9mbkj6ThXw8pYDFKrTndnB6Ff2M2s2YjmUmO4icg8YUSLzgjpiv6edN+OHwZj063V/FWl5ESA/6TH12jjrX4GfFLw9pOo+DrzU5o44rmwiMsMwUBkZcccdQR1FfNUcFnLEkrwRqWUHBReMj6V5/CvFKlSdSMT1eMuCo5g4xnK1j+pT/AIXp8GBx/wAJVpX/AIFJ/jSf8L0+C5GP+Er0of8Ab0n+Nfy4fZbIf8sYv++F/wAKPsll2hi/74X/AAr6xcUz2sfCrwhofzn9JPxc+Mvwi1H4VeJdPsPE+mTTS6bcpHGlyhZmaM4VQDyT2FfzUwX9jbW8UE8qq6xICvPy/KPvf3fxp1/FDbWM08MUaMo4YIvy/wC107da+xPDPhnRPDuhw6bpkMbRmNdzFQxcsMkkmvi+K+K1TUZziffcHcHQwFOVOnK6Z7z/AME2vHHgvwjrfiqbxVq1rp0d1BAIWuJVjEmMfcJPOK/gm/bIvbXUf2q/iXe2Mgmhl8Vao6OpBVlMi4Ix244r+tXx9oOk6D44Nlp0UawXcAuWiABCSZAOAfuhq/ji+NIx8XPFQAwP7Xu+PT56+14Zzf2+Cslo7H494y5WqD9qvtW/A8vOM8V9+f8ABKs7f+ClHwKP/U3xf+kF7XwFX31/wSx/5SS/Av8A7G6H/wBIL2vqcmV8Ql5P/wBJZ+K8PaYlekv/AEln+qt4J48Qx/7jV9AV8/8Agv8A5GRf91v519AV+xcHQ/2T5n9AcBf7lbzP/9X+6X4k/wCrtv8AeP8AKv4IP+Dq3/k6L4Sf9ijrH/pwsK/vf+JX+rtv94/yr+CH/g6t/wCTo/hGP+pQ1j/04WFflvEL/wBqq/4X+R+M8Vf77W/wP8j+WChjtgmbGdsMjY9dqE4/SinL/T9K/LaTSkm9j8aozUZJvY/uI+Cn7HGpeFv+CdPgT48Sa6lxBPotjMLVI9rp5vTD8cqe9UI/iX8Rbey+w77WRlG0XLofMxjGSvAJHqa/kNtv2tP2mbPwTbfDi1+IPiGLQbRFih05btfssaL91VTy8gDsN3Fcz/w0F8cT9/xfrH/gT/8AY15OdcM4PE1FJP8AA/oDJfF+lhKKpNX0+4/u3/Zv/Yq1v9oPwReeNoPEK6e8d7LbyCWLzHldOshPTmvoP/h1v4j/AOhyg/8AAY/4V/AD4W/bR/av8Gac2l+F/iR4l063kbzGitr1VQv/AHsGJua6Uft//tqdP+Fs+Lcf9f8AH/8AGK9vB5Fl0aaU5fgcOK8UZ1Z88Krj5WP72v8Ah1v4i/6HGD/wGNL/AMOtvEH3T4xh/wDAWv4JP+G//wBtTp/wtjxb/wCDBf8A4zTP+G+v20f+iseLf/Bgv/xmuiWT5Z/M/uOb/iJVXrW/8lP67/iv8P8AxX+zZ8XNR8F6ZqMV5PDFCZmaPEU6sMrleNrKOARXHQXfir4qeJNJ8LazLFawXl5DEkcCnbvdtodyeTt64r+PjXv2nf2h/FGpya14g8c69e3cuN8093uc46AkIBgduKzrb9oj462d1HeWvjLWo5IWDoyXeCrDoQdvUV8nV4TwTxHtk/wPo4eNNONL2dvn/wAA/wBDo/8ABLXxDn5vGMP4W3/1qT/h1t4g/h8Yw/8AgNX8DZ/b2/bP/i+Kvi3/AMGI/pDTT+3r+2b/ANFV8Wf+DIf/ABmvq/7FyxrWX4HzkvEute8a1l/hP75v+HWviH/ocoP/AAGrzf4vf8E7dX+Gvw11jxzdeJ4r2LTbcyvAINu/kDAI6HnI+lfwwf8ADef7Znf4qeLP/BkP/jNZmr/tt/tca/psuj6z8TfFNzbTjbJFLqG5GX0IEYrKtkmWuLSk/uKo+J9WElJ1bpdOU/rQ074jfEDTtPTTY2t7jagVJZk/eKMcbgOGIHevoz9mn9kzXP2lbPWvETeIF0+a1uFWZ5Id5lZgTkdlC4xiv4Wv+F8fGjovizV//Ao/4V13hj9rX9pvwZFJB4V+IXiTTklOXW2vzGrEdCQUI4r5rLOFcFSq8z0Xoe5jvGiNal7OF4vv/wAA/wBBQf8ABLXX/wDocoP/AAH/APrUv/DrbXv+hyh/8B6/gS/4br/bG/6Kn4s/8GX/ANqpv/DdP7Yv/RU/Fv8A4Mz/APGq+o/sPLP5n93/AAT5/wD4iZiP+f8A/wCS/wDBP77/APh1xrqjjxlD/wCA9fE/x1+DXiP9mD4ox+HtK1VL+6kso5ml8vEMkbHAjZB6diK/jnP7c/7YpGP+FqeLf/BmR/KOuG8SftOftC+Lr8ap4m8c69f3AXYJLi+Z2C+mQq8V52acP5fUpezpv8Dvy7xYnQnzzm5Ltax/XvrHiPxf46a30LVWhtraeWOMxQA4cswVd7H+EE5xX6W23/BLzXJ7eOf/AITGJfMVXx9nHG4dPwr/ADvl+O3xmR1kTxbrClCGBF22cjkdq9QT9t/9r6NQi/FLxZgDAxqZGAOn/LOuXJeG8DRi4yenob5p4v8A1i3sny28rn9/P/DrbXB18ZRf+A4o/wCHW+s9vGUX/gMK/gIP7cX7X3b4o+Lf/Bo3/wAbqM/tv/tff9FR8W/+DV//AIivc/sfLejf3Hj/APETK3/P5/8AgP8AwT+9Lxr/AME1dU8KeDtW8Tz+K4rpNPtJrgw/ZsbxGpJTPvjFfnjoXj/xvomjw6fZNBdQLGvkm5B8xFIyFyB8wWv5Mbz9tH9rPULOXT774m+K5oZ02SRvqbFWU9VPyDg+1ear8b/jAFCDxVq4AGAPtb8Yr5/OuGMFWtGOq9D3Mr8ZHhlab5vlY/uc/Zo/Zr1z9p/xFr1xd66tjdWKRSSyyRB/M3jCqq9FVB096/iG/ad8Pf8ACJ/tE+PfDPm+edO8R6haGTpv8qQDdjtmpPDX7UH7RfhCWWfwx4+8Q6a0+N7Wt+8RbHQE45rxPUtRvtYv59V1SaS4ubmR5pZZWLySSSHLMzHksT1NehgsDh8Nh+SnufCcb8cRzSK0KFffH/BLM4/4KSfAs/8AU3w/+kF7XwPX3t/wS0/5SRfAv/sb4f8A0hva9fJnbEJ+T/8ASWfH8Px/2pekv/SWf6rngz/kZY/o1e7nrXg/gv8A5GOM/wCy1e7HIPAr9j4NkvqnzP33gS/1PTuf/9b+6T4k8x22P7x/lX8Ev/B1XaXw/ae+El+YmNu3hPV41kA+Xd9usm256Z2gnHoK/va+JHCW2P7x/lX4/f8ABUH/AIJz+C/+CjXwFj+H1/djRvFOgztf+HdWK70troxtGyTRgjfBNGzRyLkHaxKlWwR+UcSTSxkl3VvwsfivF00sfNPqrferH+YLjHX8qSv1C+LX/BGj/gpZ8JvFNz4buvhBq2tJbOFF7oMtreWUm7p5TzS20n4GL5em5uteZf8ADrX/AIKQkZHwL8X/APfmx/8Ak2vhXktf7NvvX+Z+ay4fxF/dt98f8z4Kor71/wCHWv8AwUi/6IX4v/782P8A8m0v/DrX/gpEP+aF+L/+/Nj/APJtL+xcR2X3r/Mn+wMUui/8Cj/mfBNFfe3/AA62/wCCkX/RC/F//fiw/wDk2j/h1t/wUi/6IX4v/wC/Fh/8m0/7ExPZffH/ADF/YGK7L/wKP+Z8E0V97f8ADrb/AIKRf9EL8X/9+LD/AOTaP+HW3/BSL/ohfi//AL8WH/ybS/sTE/yr71/mH9gYrsv/AAKP+Z8FhsDFJX3r/wAOtv8AgpF/0Qvxf/34sP8A5No/4dbf8FIv+iF+L/8AvxYf/JtP+xMT2X3r/MP7AxXZf+BR/wAz4KNJX3t/w62/4KRf9EL8X/8Afiw/+TaP+HW3/BSL/ohfi/8A78WH/wAm0v7DxPZffH/MP7AxXZf+BR/zPgmlHFfev/Drb/gpF/0Qvxf/AN+LD/5No/4dbf8ABSL/AKIX4v8A+/Fh/wDJtNZJiey++P8AmNZBiuy/8Cj/AJnwXupPrX3r/wAOtv8AgpF/0Qvxf/34sP8A5No/4dbf8FIv+iF+L/8AvxYf/JtH9iYnsvvj/mH9gYrsv/Ao/wCZ8E0V97f8Otv+CkX/AEQvxf8A9+LD/wCTaP8Ah1t/wUi/6IX4v/78WH/ybS/sPE9l98f8xf2Biuy/8Cj/AJnwTSg4r71/4dbf8FIv+iF+L/8AvxYf/JtH/Drb/gpF/wBEL8X/APfiw/8Ak2n/AGLiey+9f5h/YGK7L/wKP+Z8F5/Cjce1fen/AA62/wCCkX/RC/F//fiw/wDk2j/h1t/wUi/6IX4v/wC/Fh/8m0v7ExPZffH/ADH/AGBiuy/8Cj/mfBRJPWkr72/4dbf8FIv+iF+L/wDvxYf/ACbR/wAOtv8AgpF/0Qvxf/34sP8A5No/sPE9l98f8xf6v4nsv/Ao/wCZ8F7iOlNr72/4dbf8FIv+iF+L/wDvxYf/ACbR/wAOtv8AgpF/0Qvxf/34sP8A5No/sTE9l98f8wXD+J7R/wDAo/5nwT9aK+9v+HW3/BSL/ohfi/8A782P/wAm0n/Drb/gpCOP+FF+L/8AvzY//JtH9i4hbpffH/MccgxPZf8AgUf8z4LA4yeAK/TH/gjt8OvE3xG/4KX/AAZtPDVsbj+zNdk1e72kfurOzs5o5pSPRXuIV/4GKPh3/wAEdv8Agpf8RfEtt4btPg1rmmfaCV+1avJZ2dlHx1lmjmuHVf8Adiav7MP+CP8A/wAEffD/APwTz8PXPxO+J9zba58Vtdtvsl5eWm77Hp1nu3rZWQfnGcGWUgNKwHAUIiduBwUsPLnn2tpbqrdD0cvy+eFn7Spa9mrJp7q3Q/e/wWMeJE9NrV7weteDeCQF8RR46BTXvJ61+rcIK+F07n7dwD/uPzP/1/7tvGWjahrMUP2RQdhyc8dsVwI8FeIDx5afnXu4GOlPXv8ASvncy4cw9epzzPl8z4Vw2Kre0qbng3/CF+IcYEa/g1A8FeIyc7B/31Xuxpa8/wD1Owl+p564FwT3ueFf8IV4jH8C/wDfVA8GeJO0Y/OveDwBim5Nbf6m4XzD/UHBdLnhX/CG+Jf7g/76o/4Q3xL/AHB/31XuuTRk0v8AU3C+Y/8AULB92eFf8Ib4l/uD/vqj/hDfEv8AcH/fVe65NGTR/qbhfMP9QsH3Z4V/whviX+4P++qP+EN8S/3B/wB9V7rk0ZNH+puF8w/1CwfdnhX/AAhviX+4P++qP+EN8S/3B/31XuuTRk0f6m4XzD/ULB92eFf8Ib4l/uD/AL6o/wCEN8S/3B/31XuuTRk0f6m4XzD/AFCwfdnhX/CG+Jf7g/76o/4Q3xL/AHB/31XuuTRk0f6m4XzD/ULB92eFf8Ib4l/uD/vqj/hDfEv9wf8AfVe65NGTR/qbhfMP9QsH3Z4V/wAIb4l/uD/vqj/hDfEv9wf99V7rk0ZNH+puF8w/1CwfdnhX/CG+Jf7g/wC+qP8AhDfEv9wf99V7rk0ZNH+puF8w/wBQsH3Z4V/whviX+4P++qP+EN8S/wBwf99V7rk0ZNH+puF8w/1CwfdnhX/CG+Jf7g/76o/4Q3xL/cH/AH1XuuTRk0f6m4XzD/ULB92eEnwZ4lx9wf8AfVM/4QrxH/zzX/vqvecmmknIqZcGYS3UX+omDvbU8J/4QvxGOiKPYGkXwT4hXgxLj617zk0lEeD8L0H/AKg4LzPKfDPhjVtO1dbq6UKiqR1r1fg809wMVTr6PLcthh4ckNj6fKMopYSl7Klsf//Z)\n"
      ],
      "metadata": {
        "id": "5zyeuiD3wCM3"
      }
    },
    {
      "cell_type": "markdown",
      "source": [
        "In this section, we consider a variation of the problem considered in the previous section.  Namely, given a maze, one should find a way to escape from it.  Notice that, in this case, the set of states forms a grid (as in the previous section) with a few points excluded, the initial state will be the one in the center of the maze $(0, 0)$, and the list of actions will encode the movements of the actions used in the previous section.  Since our goal is to escape the maze (that is, reach the state $(3, 2)$), we assign to each state a reward that is given as the distance from the state to the center of the maze.\n"
      ],
      "metadata": {
        "id": "JivwNyvlyeLK"
      }
    },
    {
      "cell_type": "code",
      "source": [
        "states = {(0, 0): 0,\n",
        "          (1, 0): 1,\n",
        "          (1, -1): 2,\n",
        "          (2, -1): 3,\n",
        "          (2, -2): 4,\n",
        "          (1, -2): 3,\n",
        "          (0, -2): 2,\n",
        "          (-1, -2): 3,\n",
        "          (-2, -2): 4,\n",
        "          (-1, -1): 2,\n",
        "          (-2, -1): 3,\n",
        "          (-2, 0): 2,\n",
        "          (-2, 1): 3,\n",
        "          (-1, 1): 2,\n",
        "          (-2, 2): 4,\n",
        "          (-1, 2): 3,\n",
        "          (0, 2): 2,\n",
        "          (1, 2): 3,\n",
        "          (2, 2): 4,\n",
        "          (2, 1): 3,\n",
        "          (3, 2): 5}\n",
        "\n",
        "initial_state = (0, 0)\n",
        "\n",
        "actions = [(0, 1), (0, -1), (1, 0), (-1, 0)]\n"
      ],
      "metadata": {
        "id": "79TwLxkhuN6C"
      },
      "execution_count": null,
      "outputs": []
    },
    {
      "cell_type": "markdown",
      "source": [
        "Next, define a function, `explore`, that creates 10 paths consisting of 50 steps through the maze.  It is similar to the exploration function defined in the previous section.  The main difference is that a neural network (`model`) will be used to bias the choice of the steps.  This means that, initially, the untrained neural network will choose the steps randomly.  But, as the the neural network is trained, it will choose steps that maximize the long-term reward of the path.\n"
      ],
      "metadata": {
        "id": "b-8hJph8z8gl"
      }
    },
    {
      "cell_type": "code",
      "source": [
        "def explore(model):\n",
        "    paths = []\n",
        "\n",
        "    for __ in range(10):\n",
        "\n",
        "        path = []\n",
        "        state = initial_state\n",
        "\n",
        "        for _ in range(50):\n",
        "            weights = model.predict(np.array(state).reshape(-1, 2), verbose=0)[0]\n",
        "            action = random.choices(actions, weights)[0]\n",
        "            next_state = tuple(np.array(state) + np.array(action))\n",
        "            if next_state in states:\n",
        "                path.append((state, action, next_state))\n",
        "                state = next_state\n",
        "            if reward(state) == 5:\n",
        "                break\n",
        "\n",
        "        if path:\n",
        "            paths.append(path)\n",
        "\n",
        "    return paths\n"
      ],
      "metadata": {
        "id": "mulLrThYuRCA"
      },
      "execution_count": null,
      "outputs": []
    },
    {
      "cell_type": "markdown",
      "source": [
        "The `monte carlo` function below is also very similar to the one used in the previous section to propagate the cummulative rewards through the states visited in the paths, starting from their final state.\n"
      ],
      "metadata": {
        "id": "EBkqAM110kEs"
      }
    },
    {
      "cell_type": "code",
      "source": [
        "def monte_carlo(paths):\n",
        "    for path in paths:\n",
        "\n",
        "        cummulative_reward = states[path[-1][2]]\n",
        "\n",
        "        for step in path[::-1]:\n",
        "            state = step[0]\n",
        "            cummulative_reward = (cummulative_reward + reward(state))/2\n",
        "            states[state] = cummulative_reward\n",
        "\n",
        "    return paths\n"
      ],
      "metadata": {
        "id": "o0rjsJj74dwK"
      },
      "execution_count": null,
      "outputs": []
    },
    {
      "cell_type": "markdown",
      "source": [
        "Next, we define a function that will train the neural network.  Since this is the first time that we use a neural network in this notebook, this function has no analogue in the previous section.  \n",
        "\n",
        "A neural network is a function that models another function.  The elements in the domains of these functions are called _features_ and the elements in their codomains are called _labels_.  (For more details, see the notebook [ML - neural networks](https://github.com/tiagormacedo/machine-learning/blob/main/ML%20-%20neural%20networks.ipynb).)  In our case, the features will be states and the labels will be actions.  Hence, to train a neural network to assign an action to a state, we will construct numpy-arrays containing the features (states) and labels (actions) from a given list of paths. Then, we fit (or adjust) the neural network (`model`).\n"
      ],
      "metadata": {
        "id": "5XIGWV_l1IWp"
      }
    },
    {
      "cell_type": "code",
      "source": [
        "def train_model(paths):\n",
        "    features = []\n",
        "    labels = []\n",
        "\n",
        "    for path in paths:\n",
        "        for step in path:\n",
        "            state = step[0]\n",
        "            features.append(state)\n",
        "\n",
        "            action = [0, 0, 0, 0]\n",
        "            idx = actions.index(step[1])\n",
        "            action[idx] += 1\n",
        "            labels.append(action)\n",
        "\n",
        "    features = np.array(features).reshape(-1, 2)\n",
        "    labels = np.array(labels).reshape(-1, 4)\n",
        "\n",
        "    model.fit(features, labels)\n",
        "    return model\n"
      ],
      "metadata": {
        "id": "8N-7SI1LugJu"
      },
      "execution_count": null,
      "outputs": []
    },
    {
      "cell_type": "markdown",
      "source": [
        "Now, it is time to construct the neural network that will be trained to determine the best action for each state. We begin by importing a few Python libraries that will be used to construct the neural network.\n"
      ],
      "metadata": {
        "id": "J4NlLF7z3P8s"
      }
    },
    {
      "cell_type": "code",
      "execution_count": null,
      "metadata": {
        "id": "NFb7mhrtuFJR"
      },
      "outputs": [],
      "source": [
        "from tensorflow.keras.layers import Dense\n",
        "from tensorflow.keras.models import Sequential\n",
        "from tensorflow.keras.optimizers import Adam\n"
      ]
    },
    {
      "cell_type": "markdown",
      "source": [
        "Then, we construct a fully-connected neural network with 2 hidden layers.  The input layer has dimension 2 (the coordinates of the state), the first hidden layer has dimension 16, the second hidden layer has dimension 8, and the output layer has dimension 4 (each one representing one possible action).  Notice that, in each hidden layer, we use the _ReLU_ activation function, and in the output layer we use a _softmax_ activation function, so the output represents a probability.  Also notice that we choose the loss function to be the _categorical cross entropy_ function and the Adam optimizer for the backpropagation process."
      ],
      "metadata": {
        "id": "FNSJ68d8Csqh"
      }
    },
    {
      "cell_type": "code",
      "source": [
        "###  NEURAL NETWORK  ###\n",
        "\n",
        "model = Sequential()\n",
        "model.add(Dense(16, input_shape=(2,), activation='relu'))\n",
        "model.add(Dense(8, activation='relu'))\n",
        "model.add(Dense(4, activation='softmax'))\n",
        "model.compile(loss='categorical_crossentropy', optimizer=Adam(learning_rate=0.05))\n"
      ],
      "metadata": {
        "id": "a_8wMPbauTjw"
      },
      "execution_count": null,
      "outputs": []
    },
    {
      "cell_type": "markdown",
      "source": [
        "The last step is to put everything together.  First, the agent will explore the environment, then we apply a Monte Carlo to adjust the rewards of the visited states, next we choose the 2 best paths to train the neural network, and finally, we train the neural network.  When these steps are repeated 50 times, this process takes around 30 minutes, and the resulting neural network is able to correctly find a path to escape the maze.\n"
      ],
      "metadata": {
        "id": "XNeu9Knt4pUx"
      }
    },
    {
      "cell_type": "code",
      "source": [
        "for t in range(50):\n",
        "    if t % 10 == 0:\n",
        "        print(t)\n",
        "    paths = explore(model)\n",
        "    paths = monte_carlo(paths)\n",
        "    best_paths = sorted(paths, key=lambda path: max([states[step[2]] for step in path]), reverse=True)[:2]\n",
        "    model = train_model(best_paths)\n"
      ],
      "metadata": {
        "id": "mrKVMF5_r3Pg"
      },
      "execution_count": null,
      "outputs": []
    },
    {
      "cell_type": "code",
      "source": [
        "path = []\n",
        "state = initial_state\n",
        "\n",
        "for _ in range(100):\n",
        "    weights = model.predict(np.array(state).reshape(-1, 2), verbose=0)[0]\n",
        "    action = random.choices(actions, weights)[0]\n",
        "    next_state = tuple(np.array(state) + np.array(action))\n",
        "    if next_state in states:\n",
        "        path.append((state, action, next_state))\n",
        "        state = next_state\n",
        "\n",
        "path\n"
      ],
      "metadata": {
        "id": "s-43Eh6MWjo5",
        "colab": {
          "base_uri": "https://localhost:8080/"
        },
        "outputId": "3aa50135-99d8-4fd7-eb75-24a85723e56c"
      },
      "execution_count": null,
      "outputs": [
        {
          "output_type": "execute_result",
          "data": {
            "text/plain": [
              "[((0, 0), (1, 0), (1, 0)),\n",
              " ((1, 0), (-1, 0), (0, 0)),\n",
              " ((0, 0), (1, 0), (1, 0)),\n",
              " ((1, 0), (-1, 0), (0, 0)),\n",
              " ((0, 0), (1, 0), (1, 0)),\n",
              " ((1, 0), (0, -1), (1, -1)),\n",
              " ((1, -1), (0, -1), (1, -2)),\n",
              " ((1, -2), (-1, 0), (0, -2)),\n",
              " ((0, -2), (-1, 0), (-1, -2)),\n",
              " ((-1, -2), (-1, 0), (-2, -2)),\n",
              " ((-2, -2), (0, 1), (-2, -1)),\n",
              " ((-2, -1), (0, 1), (-2, 0)),\n",
              " ((-2, 0), (0, 1), (-2, 1)),\n",
              " ((-2, 1), (0, 1), (-2, 2)),\n",
              " ((-2, 2), (1, 0), (-1, 2)),\n",
              " ((-1, 2), (1, 0), (0, 2)),\n",
              " ((0, 2), (1, 0), (1, 2)),\n",
              " ((1, 2), (1, 0), (2, 2)),\n",
              " ((2, 2), (1, 0), (3, 2))]"
            ]
          },
          "metadata": {},
          "execution_count": 20
        }
      ]
    },
    {
      "cell_type": "markdown",
      "metadata": {
        "id": "p-94zvg_9Wq_"
      },
      "source": [
        "# 4. A fancy Markov Decision Process\n",
        "\n",
        "![fancy-markov-decision-process.jpg](data:image/jpeg;base64,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)\n"
      ]
    },
    {
      "cell_type": "markdown",
      "source": [
        "In this last section, we merge the methods developed above to show a method that can explore an unknown environment, estimate a value for each action, and then return a policy that guides the agent toward a goal. The environment created in this section is a grid similar to the ones used in the previous sections. But in this case, the agent only knows the available actions, the starting state, and the main goal. For simplicity, we will also assume that the agent's actions are deterministic.\n",
        "\n",
        "We begin by setting up the set of actions that the agent can take, its initial state and a random goal.\n"
      ],
      "metadata": {
        "id": "lw95qmBOmQyc"
      }
    },
    {
      "cell_type": "code",
      "source": [
        "ACTIONS = {\"left\", \"up\", \"right\", \"down\"}\n",
        "INITIAL_STATE = (0, 0)\n",
        "GOAL = (random.randint(0, 5), random.randint(0, 5))\n"
      ],
      "metadata": {
        "id": "GeBkilU6cLtD"
      },
      "execution_count": null,
      "outputs": []
    },
    {
      "cell_type": "markdown",
      "source": [
        "Now, we will write a loop that performs the exploration of the environment by the agent.  Notice that we start with a set of states that contains only the initial state.  While the agent explores the environment, the set of states will be populated with information about the environment.  In particular, for each state, we will record the reward of each one of the actions.\n"
      ],
      "metadata": {
        "id": "v0mvcdwY5mca"
      }
    },
    {
      "cell_type": "code",
      "source": [
        "# Fix the notation for the initial state\n",
        "x, y = INITIAL_STATE\n",
        "\n",
        "# Initialize the dictionary of states with the initial state and its rewards\n",
        "states = {(x, y): {\"left\": 5 if (x, y-1) == GOAL else -1,\n",
        "                   \"up\": 5 if (x-1, y) == GOAL else -1,\n",
        "                   \"right\": 5 if (x, y+1) == GOAL else -1,\n",
        "                   \"down\": 5 if (x+1, y) == GOAL else -1}}\n",
        "\n",
        "# Fix three parameters: the number of exploratory walks, the length of each\n",
        "# one of these exploratory walks, and the threshold for random actions\n",
        "N_WALKS = 10\n",
        "WALK_LENGTH = 10\n",
        "EPSILON = 0.5\n",
        "\n",
        "for _ in range(N_WALKS):\n",
        "\n",
        "    # Start this walk at a random state\n",
        "    x, y = random.choice([s for s in states])\n",
        "\n",
        "    for __ in range(WALK_LENGTH):\n",
        "        # Choose an action\n",
        "        if random.uniform(0, 1) < EPSILON:\n",
        "            action = random.choice(tuple(ACTIONS))\n",
        "        else:\n",
        "            action = max(states[(x, y)], key=states[(x, y)].get)\n",
        "\n",
        "        # Change the state depending on which action was chosen\n",
        "        if action == \"left\":\n",
        "            y -= 1\n",
        "        elif action == \"right\":\n",
        "            y += 1\n",
        "        elif action == \"up\":\n",
        "            x -= 1\n",
        "        elif action == \"down\":\n",
        "            x += 1\n",
        "\n",
        "        # If the current state has not been visited yet, gather its reward\n",
        "        # information and feed it into the dictionary of states\n",
        "        if (x, y) not in states:\n",
        "            states[(x, y)] = {\"left\": 5 if (x, y-1) == GOAL else -1,\n",
        "                              \"up\": 5 if (x-1, y) == GOAL else -1,\n",
        "                              \"right\": 5 if (x, y+1) == GOAL else -1,\n",
        "                              \"down\": 5 if (x+1, y) == GOAL else -1}\n",
        "\n",
        "        # If the current state is the goal, stop this exploratory walk\n",
        "        if (x, y) == GOAL:\n",
        "            break\n"
      ],
      "metadata": {
        "id": "8rR7P0hY5l1s"
      },
      "execution_count": null,
      "outputs": []
    },
    {
      "cell_type": "markdown",
      "source": [
        "Next, we implement a _Monte Carlo_ process to adjust the rewards of the actions according to their role in a guided walk through the environment.  This method is known as _Q-learning_.\n"
      ],
      "metadata": {
        "id": "WC_AVEXLm7Hq"
      }
    },
    {
      "cell_type": "code",
      "source": [
        "# Fix a few parameters\n",
        "N_EXPLORATIONS = 10\n",
        "MAX_STEPS = 10\n",
        "EPSILON = 0.25\n",
        "DISCOUNT_RATE = 0.9\n",
        "LEARNING_RATE = 0.1\n",
        "\n",
        "for _ in range(N_EXPLORATIONS):\n",
        "    # Choose a random state for the agent to start\n",
        "    x, y = random.choice([s for s in states])\n",
        "\n",
        "    # Walk through the environment collecting state and action information\n",
        "    # of each step into a list\n",
        "    exploration = []\n",
        "\n",
        "    for __ in range(MAX_STEPS):\n",
        "        # Choose an action\n",
        "        if (random.uniform(0, 1) < EPSILON) or ((x, y) not in states):\n",
        "            action = random.choice(tuple(ACTIONS))\n",
        "        else:\n",
        "            action = max(states[(x, y)], key=states[(x, y)].get)\n",
        "\n",
        "        # Feed this information into the exploration list\n",
        "        exploration.append({'state': (x, y), 'action': action})\n",
        "\n",
        "        # Take the step relative to the chosen action\n",
        "        if action == \"left\":\n",
        "            y -= 1\n",
        "        elif action == \"right\":\n",
        "            y += 1\n",
        "        elif action == \"up\":\n",
        "            x -= 1\n",
        "        elif action == \"down\":\n",
        "            x += 1\n",
        "\n",
        "        # If the current state has not been visited yet, gather its reward\n",
        "        # information and feed it into the dictionary of states\n",
        "        if (x, y) not in states:\n",
        "            states[(x, y)] = {\"left\": 5 if (x, y-1) == GOAL else -1,\n",
        "                              \"up\": 5 if (x-1, y) == GOAL else -1,\n",
        "                              \"right\": 5 if (x, y+1) == GOAL else -1,\n",
        "                              \"down\": 5 if (x+1, y) == GOAL else -1}\n",
        "\n",
        "        # If the current state is the goal, finish this walk\n",
        "        if (x, y) == GOAL:\n",
        "            break\n",
        "\n",
        "    # Adjust the rewards of the actions taken in this walk (Q-learning)\n",
        "    cumulative_reward = 0\n",
        "\n",
        "    for step in exploration[::-1]:\n",
        "        state = step['state']\n",
        "        action = step['action']\n",
        "        cumulative_reward = max(states[state].values()) + DISCOUNT_RATE * cumulative_reward\n",
        "        states[state][action] = (1 - LEARNING_RATE) * states[state][action] + LEARNING_RATE * cumulative_reward\n"
      ],
      "metadata": {
        "id": "uf5FxBDpmqoo"
      },
      "execution_count": null,
      "outputs": []
    },
    {
      "cell_type": "markdown",
      "source": [
        "Finally, we will display a matrix that represents the resulting policy in the neighborhood of the goal.\n"
      ],
      "metadata": {
        "id": "FHSxQyWLok_W"
      }
    },
    {
      "cell_type": "code",
      "source": [
        "###  Display the policy as a matrix  ###\n",
        "\n",
        "states[GOAL] = {\"left\": -1, \"up\": -1, \"right\": -1, \"down\": -1}\n",
        "\n",
        "x_min = min([row  for row, column in states])\n",
        "x_max = max([row  for row, column in states])\n",
        "height = x_max - x_min + 1\n",
        "\n",
        "y_min = min([column  for row, column in states])\n",
        "y_max = max([column  for row, column in states])\n",
        "width = y_max - y_min + 1\n",
        "\n",
        "matrix = [[\" \"  for j in range(width)]  for i in range(height)]\n",
        "\n",
        "for x, y in states:\n",
        "    best_action = max(states[(x, y)], key=states[(x, y)].get)\n",
        "\n",
        "    row = x - x_min\n",
        "    column = y - y_min\n",
        "\n",
        "    if best_action == \"right\":\n",
        "        matrix[row][column] = '>'\n",
        "    elif best_action == \"left\":\n",
        "        matrix[row][column] = '<'\n",
        "    elif best_action == \"up\":\n",
        "        matrix[row][column] = '^'\n",
        "    elif best_action == \"down\":\n",
        "        matrix[row][column] = 'v'\n",
        "\n",
        "x_goal, y_goal = GOAL\n",
        "matrix[x_goal-x_min][y_goal-y_min] = '*'\n",
        "\n",
        "\n",
        "print(np.array(matrix)[x_goal-x_min-5:x_goal-x_min+5, y_goal-y_min-5:y_goal-y_min+5])\n"
      ],
      "metadata": {
        "id": "-tPvsX0KM_cO",
        "colab": {
          "base_uri": "https://localhost:8080/"
        },
        "outputId": "176f0383-a62d-4a7f-ffd3-dad86cb074bd"
      },
      "execution_count": null,
      "outputs": [
        {
          "output_type": "stream",
          "name": "stdout",
          "text": [
            "[['<' ' ' ' ' ' ' ' ' ' ']\n",
            " ['<' '<' '<' ' ' ' ' ' ']\n",
            " ['<' '<' ' ' ' ' ' ' ' ']\n",
            " [' ' '<' '<' ' ' ' ' ' ']\n",
            " ['<' '<' ' ' ' ' ' ' ' ']\n",
            " [' ' ' ' ' ' ' ' ' ' '*']]\n"
          ]
        }
      ]
    },
    {
      "cell_type": "markdown",
      "source": [
        "Notice that the policy above is not good at finding a path towards the goal.  In fact, one must run the exploration and Monte Carlo loops a few times before the resulting policy shows signs that the agent is learning to walk towards the goal.  We will implement this iterative process below.\n"
      ],
      "metadata": {
        "id": "rjW1-20Po7uX"
      }
    },
    {
      "cell_type": "code",
      "source": [
        "# Fix the notation for the initial state\n",
        "x, y = INITIAL_STATE\n",
        "\n",
        "# Initialize the dictionary of states with the initial state and its rewards\n",
        "states = {(x, y): {\"left\": 5 if (x, y-1) == GOAL else -1,\n",
        "                   \"up\": 5 if (x-1, y) == GOAL else -1,\n",
        "                   \"right\": 5 if (x, y+1) == GOAL else -1,\n",
        "                   \"down\": 5 if (x+1, y) == GOAL else -1}}\n",
        "\n",
        "\n",
        "for _ in range(1000):\n",
        "    ###  EXPLORATION PART  ###\n",
        "\n",
        "    # Fix three parameters: the number of exploratory walks, the length of each\n",
        "    # one of these exploratory walks, and the threshold for random actions\n",
        "    N_WALKS = 10\n",
        "    WALK_LENGTH = 10\n",
        "    EPSILON = 0.5\n",
        "\n",
        "    for __ in range(N_WALKS):\n",
        "\n",
        "        # Start this walk at a random state\n",
        "        x, y = random.choice([s for s in states])\n",
        "\n",
        "        for ___ in range(WALK_LENGTH):\n",
        "            # Choose an action\n",
        "            if random.uniform(0, 1) < EPSILON:\n",
        "                action = random.choice(tuple(ACTIONS))\n",
        "            else:\n",
        "                action = max(states[(x, y)], key=states[(x, y)].get)\n",
        "\n",
        "            # Change the state depending on which action was chosen\n",
        "            if action == \"left\":\n",
        "                y -= 1\n",
        "            elif action == \"right\":\n",
        "                y += 1\n",
        "            elif action == \"up\":\n",
        "                x -= 1\n",
        "            elif action == \"down\":\n",
        "                x += 1\n",
        "\n",
        "            # If the current state has not been visited yet, gather its reward\n",
        "            # information and feed it into the dictionary of states\n",
        "            if (x, y) not in states:\n",
        "                states[(x, y)] = {\"left\": 5 if (x, y-1) == GOAL else -1,\n",
        "                                \"up\": 5 if (x-1, y) == GOAL else -1,\n",
        "                                \"right\": 5 if (x, y+1) == GOAL else -1,\n",
        "                                \"down\": 5 if (x+1, y) == GOAL else -1}\n",
        "\n",
        "            # If the current state is the goal, stop this exploratory walk\n",
        "            if (x, y) == GOAL:\n",
        "                break\n",
        "\n",
        "\n",
        "    ###  MONTE CARLO PART  ###\n",
        "\n",
        "    # Fix a few parameters\n",
        "    N_EXPLORATIONS = 10\n",
        "    MAX_STEPS = 10\n",
        "    EPSILON = 0.25\n",
        "    DISCOUNT_RATE = 0.9\n",
        "    LEARNING_RATE = 0.1\n",
        "\n",
        "    for __ in range(N_EXPLORATIONS):\n",
        "        # Choose a random state for the agent to start\n",
        "        x, y = random.choice([s for s in states])\n",
        "\n",
        "        # Walk through the environment collecting state and action information\n",
        "        # of each step into a list\n",
        "        exploration = []\n",
        "\n",
        "        for ___ in range(MAX_STEPS):\n",
        "            # Choose an action\n",
        "            if (random.uniform(0, 1) < EPSILON) or ((x, y) not in states):\n",
        "                action = random.choice(tuple(ACTIONS))\n",
        "            else:\n",
        "                action = max(states[(x, y)], key=states[(x, y)].get)\n",
        "\n",
        "            # Feed this information into the exploration list\n",
        "            exploration.append({'state': (x, y), 'action': action})\n",
        "\n",
        "            # Take the step relative to the chosen action\n",
        "            if action == \"left\":\n",
        "                y -= 1\n",
        "            elif action == \"right\":\n",
        "                y += 1\n",
        "            elif action == \"up\":\n",
        "                x -= 1\n",
        "            elif action == \"down\":\n",
        "                x += 1\n",
        "\n",
        "            # If the current state has not been visited yet, gather its reward\n",
        "            # information and feed it into the dictionary of states\n",
        "            if (x, y) not in states:\n",
        "                states[(x, y)] = {\"left\": 5 if (x, y-1) == GOAL else -1,\n",
        "                                \"up\": 5 if (x-1, y) == GOAL else -1,\n",
        "                                \"right\": 5 if (x, y+1) == GOAL else -1,\n",
        "                                \"down\": 5 if (x+1, y) == GOAL else -1}\n",
        "\n",
        "            # If the current state is the goal, finish this walk\n",
        "            if (x, y) == GOAL:\n",
        "                break\n",
        "\n",
        "        # Adjust the rewards of the actions taken in this walk (Q-learning)\n",
        "        cumulative_reward = 0\n",
        "\n",
        "        for step in exploration[::-1]:\n",
        "            state = step['state']\n",
        "            action = step['action']\n",
        "            cumulative_reward = max(states[state].values()) + DISCOUNT_RATE * cumulative_reward\n",
        "            states[state][action] = (1 - LEARNING_RATE) * states[state][action] + LEARNING_RATE * cumulative_reward\n",
        "\n",
        "\n",
        "# Display the policy as a matrix\n",
        "\n",
        "states[GOAL] = {\"left\": -1, \"up\": -1, \"right\": -1, \"down\": -1}\n",
        "\n",
        "x_min = min([row  for row, column in states])\n",
        "x_max = max([row  for row, column in states])\n",
        "height = x_max - x_min + 1\n",
        "\n",
        "y_min = min([column  for row, column in states])\n",
        "y_max = max([column  for row, column in states])\n",
        "width = y_max - y_min + 1\n",
        "\n",
        "matrix = [[\" \"  for j in range(width)]  for i in range(height)]\n",
        "\n",
        "for x, y in states:\n",
        "    best_action = max(states[(x, y)], key=states[(x, y)].get)\n",
        "\n",
        "    row = x - x_min\n",
        "    column = y - y_min\n",
        "\n",
        "    if best_action == \"right\":\n",
        "        matrix[row][column] = '>'\n",
        "    elif best_action == \"left\":\n",
        "        matrix[row][column] = '<'\n",
        "    elif best_action == \"up\":\n",
        "        matrix[row][column] = '^'\n",
        "    elif best_action == \"down\":\n",
        "        matrix[row][column] = 'v'\n",
        "\n",
        "x_goal, y_goal = GOAL\n",
        "matrix[x_goal-x_min][y_goal-y_min] = '*'\n",
        "\n",
        "print(\"Resulting policy:\")\n",
        "print(np.array(matrix)[x_goal-x_min-5:x_goal-x_min+5, y_goal-y_min-5:y_goal-y_min+5])\n"
      ],
      "metadata": {
        "colab": {
          "base_uri": "https://localhost:8080/"
        },
        "id": "7ALty_oIpdYA",
        "outputId": "c87a063b-4ddb-49e2-e04b-3409728c8377"
      },
      "execution_count": null,
      "outputs": [
        {
          "output_type": "stream",
          "name": "stdout",
          "text": [
            "Resulting policy:\n",
            "[['<' '<' '<' '<']\n",
            " ['<' '<' '<' '<']\n",
            " ['<' '*' '<' '<']\n",
            " ['<' '<' '<' '<']]\n"
          ]
        }
      ]
    },
    {
      "cell_type": "markdown",
      "metadata": {
        "id": "_kObHigzbeDN"
      },
      "source": [
        "# References:\n",
        "\n",
        "* Geron, _Hands-on machine learning with Scikit-Learn and TensorFlow_.\n",
        "\n",
        "* Jaffry, [_Grid World Environment_](http://github.com/SRJaffry/GridWorld_Environment/blob/master/GridWorld_Env%20Final.ipynb).\n",
        "\n",
        "*  Kansal and Martin, [_Reinforcement Q-Learning from Scratch in Python with OpenAI Gym_](http://www.learndatasci.com/tutorials/reinforcement-q-learning-scratch-python-openai-gym/).\n",
        "\n",
        "* Martínez, [_Reinforcement learning (RL) 101 with Python_](http://medium.com/towards-data-science/reinforcement-learning-rl-101-with-python-e1aa0d37d43b).\n",
        "\n",
        "* Sutton and Barto, _Reinforcement learning: An introduction_.\n"
      ]
    }
  ],
  "metadata": {
    "colab": {
      "collapsed_sections": [
        "qlS7pyEJeLlY",
        "nwiP8RBYzGXO",
        "5zyeuiD3wCM3",
        "p-94zvg_9Wq_"
      ],
      "provenance": []
    },
    "kernelspec": {
      "display_name": "Python 3",
      "name": "python3"
    },
    "language_info": {
      "name": "python"
    }
  },
  "nbformat": 4,
  "nbformat_minor": 0
}