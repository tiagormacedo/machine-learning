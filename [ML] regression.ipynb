{
 "cells": [
  {
   "cell_type": "markdown",
   "metadata": {
    "id": "D87GKWJtP1Rk"
   },
   "source": [
    "# Intro\n",
    "\n",
    "The main goals of these projects are: to understand how machine learning works; and to learn how to use the most common Python libraries for machine learning: sklearn, TensorFlow and PyTorch.\n",
    "\n",
    "In this particular notebook I will try to model the elementary function $x^2$ from a randomly generated data set.  Since this is a __non-linear regression problem__, to accomplish this, I will use the following methods: decision trees, random forests, gradient boosting, and neural networks."
   ]
  },
  {
   "cell_type": "markdown",
   "metadata": {
    "id": "zLZnf6JznuI-"
   },
   "source": [
    "## Libraries and modules\n",
    "\n",
    "In this cell, we import all the libraries and modules that will be used throught this notebook."
   ]
  },
  {
   "cell_type": "code",
   "execution_count": 1,
   "metadata": {
    "executionInfo": {
     "elapsed": 18787,
     "status": "ok",
     "timestamp": 1680646406615,
     "user": {
      "displayName": "Tiago Macedo",
      "userId": "03620921917936259665"
     },
     "user_tz": 180
    },
    "id": "SBIXljiYl7K4"
   },
   "outputs": [],
   "source": [
    "import matplotlib.pyplot as plt\n",
    "import numpy as np\n",
    "import pandas as pd\n",
    "import tensorflow as tf\n",
    "import torch\n",
    "\n",
    "from sklearn import ensemble, tree\n",
    "from sklearn.metrics import mean_absolute_error, mean_squared_error, r2_score\n",
    "from sklearn.model_selection import train_test_split, GridSearchCV, RandomizedSearchCV\n"
   ]
  },
  {
   "cell_type": "markdown",
   "metadata": {
    "id": "iexPEd5kn1HO"
   },
   "source": [
    "## Random data set\n",
    "\n",
    "In this cell, we construct the data set.  First, we define the function $x^2$, then we create $n$ randomly chosen points around the curve $(x, x^2)$, and finally we split the data set into training and testing data subsets."
   ]
  },
  {
   "cell_type": "code",
   "execution_count": null,
   "metadata": {
    "id": "4_zH8XqGmKhy"
   },
   "outputs": [],
   "source": [
    "# The function that the ML will learn\n",
    "def f(x : float) -> float:\n",
    "    return x*x\n",
    "\n",
    "# Construct the data\n",
    "n = 100    # size of the data\n",
    "X = np.random.rand(n, 1)\n",
    "Y = np.array([f(i) for x in X for i in x])\n",
    "# print(f\"X: {X}\")\n",
    "# print(f\"Y: {Y}\")\n",
    "\n",
    "# Add noise to the data\n",
    "noise = np.random.rand(n, 1)\n",
    "noise = [float(z)/50 - 0.01 for z in noise]\n",
    "# print(noise)\n",
    "Y = Y + noise\n",
    "# print(f\"Y: {Y}\")\n",
    "\n",
    "# Separate training and testing data\n",
    "X_train, X_test, Y_train, Y_test = train_test_split(X, Y, random_state = 1)\n",
    "# print(f\"X_train: {X_train}\")\n",
    "# print(f\"X_test: {X_test}\")\n",
    "# print(f\"Y_train: {Y_train}\")\n",
    "# print(f\"Y_test: {Y_test}\")\n"
   ]
  },
  {
   "cell_type": "markdown",
   "metadata": {
    "id": "7_cw884rn7Tm"
   },
   "source": [
    "## Decision tree"
   ]
  },
  {
   "cell_type": "code",
   "execution_count": 20,
   "metadata": {
    "executionInfo": {
     "elapsed": 13,
     "status": "ok",
     "timestamp": 1680646938952,
     "user": {
      "displayName": "Tiago Macedo",
      "userId": "03620921917936259665"
     },
     "user_tz": 180
    },
    "id": "YokdoHGFmPUd"
   },
   "outputs": [],
   "source": [
    "# Decision tree\n",
    "\n",
    "decision_tree = tree.DecisionTreeRegressor(max_depth=8)\n",
    "decision_tree = decision_tree.fit(X_train, Y_train)\n"
   ]
  },
  {
   "cell_type": "code",
   "execution_count": null,
   "metadata": {
    "id": "goEExsbZdqQy"
   },
   "outputs": [],
   "source": [
    "# Tune hyperparameters\n",
    "\n",
    "## Create a dictionary listing all the parameters that will be tested\n",
    "parameters = {'criterion': ['poisson', 'squared_error', 'friedman_mse', 'absolute_error'],\n",
    "              'splitter': [\"best\", \"random\"],\n",
    "              'min_samples_split': range(2, 11),\n",
    "              'min_samples_leaf': range(1, 11),\n",
    "              'max_depth': range(1, 11)\n",
    "}\n",
    "\n",
    "## Perform an exhaustive test through all the parameters\n",
    "grid_search = GridSearchCV(decision_tree, parameters).fit(X_train, Y_train)\n",
    "\n",
    "## Display the results\n",
    "display(pd.DataFrame(grid_search.cv_results_))\n",
    "\n",
    "## Print the best option\n",
    "grid_search.best_estimator_\n",
    "# Be careful: the best result may lead to overfitting!\n"
   ]
  },
  {
   "cell_type": "code",
   "execution_count": 21,
   "metadata": {
    "colab": {
     "base_uri": "https://localhost:8080/",
     "height": 469
    },
    "executionInfo": {
     "elapsed": 1000,
     "status": "ok",
     "timestamp": 1680646947325,
     "user": {
      "displayName": "Tiago Macedo",
      "userId": "03620921917936259665"
     },
     "user_tz": 180
    },
    "id": "SWbHwmxMoBnK",
    "outputId": "7c7ab262-5052-4679-e3c6-e5290b0ab5e0"
   },
   "outputs": [
    {
     "data": {
      "text/plain": [
       "[<matplotlib.lines.Line2D at 0x7fc007ae9e20>]"
      ]
     },
     "execution_count": 21,
     "metadata": {},
     "output_type": "execute_result"
    },
    {
     "data": {
      "image/png": "[encoded data removed]",
      "text/plain": [
       "<Figure size 640x480 with 1 Axes>"
      ]
     },
     "metadata": {},
     "output_type": "display_data"
    }
   ],
   "source": [
    "# Plot the result\n",
    "\n",
    "T = np.linspace(-1, 2, 100)\n",
    "F = [f(t) for t in T]\n",
    "G = [decision_tree.predict([[t]]) for t in T]\n",
    "\n",
    "plt.title(\"Decision tree\")\n",
    "plt.plot(T, F, color = \"green\")\n",
    "plt.plot(T, G, color = \"red\")\n"
   ]
  },
  {
   "cell_type": "code",
   "execution_count": 22,
   "metadata": {
    "colab": {
     "base_uri": "https://localhost:8080/"
    },
    "executionInfo": {
     "elapsed": 412,
     "status": "ok",
     "timestamp": 1680646950875,
     "user": {
      "displayName": "Tiago Macedo",
      "userId": "03620921917936259665"
     },
     "user_tz": 180
    },
    "id": "bKaaWQLXoPJv",
    "outputId": "f3cec565-adc2-4ca8-d559-ad33b3b296bd"
   },
   "outputs": [
    {
     "name": "stdout",
     "output_type": "stream",
     "text": [
      "R2: 0.9983441049622828 (test), 0.9999998551420818 (train)\n",
      "MAE: 0.008724802499285868 (test), 3.206958118735671e-05 (train)\n",
      "MSE: 0.00011449403801279927 (test), 1.3265702277472382e-08 (train)\n"
     ]
    }
   ],
   "source": [
    "# Evaluation\n",
    "\n",
    "Y_predicted = decision_tree.predict(X_test)\n",
    "Y_eval = decision_tree.predict(X_train)\n",
    "\n",
    "print(f\"R2: {r2_score(Y_test, Y_predicted)} (test), {r2_score(Y_train, Y_eval)} (train)\")    # close to 1 is good\n",
    "print(f\"MAE: {mean_absolute_error(Y_test, Y_predicted)} (test), {mean_absolute_error(Y_train, Y_eval)} (train)\")    # close to 0 is good\n",
    "print(f\"MSE: {mean_squared_error(Y_test, Y_predicted)} (test), {mean_squared_error(Y_train, Y_eval)} (train)\")    # close to 0 is good\n"
   ]
  },
  {
   "cell_type": "markdown",
   "metadata": {
    "id": "Elam9T7_pAHh"
   },
   "source": [
    "## Random forest"
   ]
  },
  {
   "cell_type": "code",
   "execution_count": 24,
   "metadata": {
    "executionInfo": {
     "elapsed": 1058,
     "status": "ok",
     "timestamp": 1680646972535,
     "user": {
      "displayName": "Tiago Macedo",
      "userId": "03620921917936259665"
     },
     "user_tz": 180
    },
    "id": "OfqCxjGxrjdz"
   },
   "outputs": [],
   "source": [
    "# Random Forest\n",
    "\n",
    "random_forest = ensemble.RandomForestRegressor(bootstrap=False, max_depth=7)\n",
    "random_forest = random_forest.fit(X_train, Y_train)\n"
   ]
  },
  {
   "cell_type": "code",
   "execution_count": null,
   "metadata": {
    "id": "cKDxqMIRHkkO"
   },
   "outputs": [],
   "source": [
    "# Tune hyperparameters (part I)\n",
    "\n",
    "## Create a dictionary listing parameters that will be randomly tested\n",
    "parameters = {'bootstrap': [True, False],\n",
    "              'criterion': ['poisson', 'squared_error', 'friedman_mse', 'absolute_error'],\n",
    "              'min_samples_split': range(2, 11),\n",
    "              'min_samples_leaf': range(1, 11),\n",
    "              'max_depth': range(1, 11)\n",
    "}\n",
    "\n",
    "## Perform a random search through the parameters\n",
    "random_search = RandomizedSearchCV(random_forest, parameters).fit(X_train, Y_train)\n",
    "\n",
    "## Display the results\n",
    "display(pd.DataFrame(random_search.cv_results_))\n",
    "\n",
    "## Print the best option\n",
    "random_search.best_estimator_\n"
   ]
  },
  {
   "cell_type": "code",
   "execution_count": null,
   "metadata": {
    "id": "gshVk2eNo-Ec"
   },
   "outputs": [],
   "source": [
    "# Tune hyperparameters (part II)\n",
    "\n",
    "## Create a dictionary listing all the parameters that will be tested\n",
    "parameters = {'bootstrap': [True, False],\n",
    "              'criterion': ['poisson', 'squared_error', 'friedman_mse', 'absolute_error'],\n",
    "              'min_samples_split': range(2, 5),\n",
    "              'min_samples_leaf': range(1, 5),\n",
    "              'max_depth': range(4, 8)\n",
    "}\n",
    "\n",
    "## Perform an exhaustive test through all the parameters\n",
    "grid_search = GridSearchCV(random_forest, parameters).fit(X_train, Y_train)\n",
    "\n",
    "## Display the results\n",
    "display(pd.DataFrame(grid_search.cv_results_))\n",
    "\n",
    "## Print the best option\n",
    "grid_search.best_estimator_\n"
   ]
  },
  {
   "cell_type": "code",
   "execution_count": 25,
   "metadata": {
    "colab": {
     "base_uri": "https://localhost:8080/",
     "height": 469
    },
    "executionInfo": {
     "elapsed": 1980,
     "status": "ok",
     "timestamp": 1680646980232,
     "user": {
      "displayName": "Tiago Macedo",
      "userId": "03620921917936259665"
     },
     "user_tz": 180
    },
    "id": "nYQ0dClBpYKD",
    "outputId": "4fbe448d-585f-48ad-f899-66d308281777"
   },
   "outputs": [
    {
     "data": {
      "text/plain": [
       "[<matplotlib.lines.Line2D at 0x7fc0075927c0>]"
      ]
     },
     "execution_count": 25,
     "metadata": {},
     "output_type": "execute_result"
    },
    {
     "data": {
      "image/png": "[encoded data removed]",
      "text/plain": [
       "<Figure size 640x480 with 1 Axes>"
      ]
     },
     "metadata": {},
     "output_type": "display_data"
    }
   ],
   "source": [
    "# Plot the result\n",
    "\n",
    "T = np.linspace(-1, 2, 100)\n",
    "F = [f(t) for t in T]\n",
    "H = [random_forest.predict([[t]]) for t in T]\n",
    "\n",
    "plt.title(\"Random forest\")\n",
    "plt.plot(T, F, color = \"green\")\n",
    "plt.plot(T, H, color = \"red\")\n"
   ]
  },
  {
   "cell_type": "code",
   "execution_count": 26,
   "metadata": {
    "colab": {
     "base_uri": "https://localhost:8080/"
    },
    "executionInfo": {
     "elapsed": 34,
     "status": "ok",
     "timestamp": 1680646985039,
     "user": {
      "displayName": "Tiago Macedo",
      "userId": "03620921917936259665"
     },
     "user_tz": 180
    },
    "id": "f7TaMTkspdEF",
    "outputId": "e50c2887-2906-4b2d-f46c-37119a3bba33"
   },
   "outputs": [
    {
     "name": "stdout",
     "output_type": "stream",
     "text": [
      "R2: 0.9983630556415704 (test), 0.9999917588762334 (train)\n",
      "MAE: 0.008675536035505716 (test), 0.0004061561625895608 (train)\n",
      "MSE: 0.00011318372561660485 (test), 7.5470016210167e-07 (train)\n"
     ]
    }
   ],
   "source": [
    "# Evaluate the method\n",
    "\n",
    "Y_predicted = random_forest.predict(X_test)\n",
    "Y_eval = random_forest.predict(X_train)\n",
    "\n",
    "print(f\"R2: {r2_score(Y_test, Y_predicted)} (test), {r2_score(Y_train, Y_eval)} (train)\")\n",
    "print(f\"MAE: {mean_absolute_error(Y_test, Y_predicted)} (test), {mean_absolute_error(Y_train, Y_eval)} (train)\")\n",
    "print(f\"MSE: {mean_squared_error(Y_test, Y_predicted)} (test), {mean_squared_error(Y_train, Y_eval)} (train)\")\n"
   ]
  },
  {
   "cell_type": "markdown",
   "metadata": {
    "id": "PtbPyONEsw_A"
   },
   "source": [
    "## Gradient boosting"
   ]
  },
  {
   "cell_type": "code",
   "execution_count": 27,
   "metadata": {
    "executionInfo": {
     "elapsed": 552,
     "status": "ok",
     "timestamp": 1680646993601,
     "user": {
      "displayName": "Tiago Macedo",
      "userId": "03620921917936259665"
     },
     "user_tz": 180
    },
    "id": "pWs7PK8zswBH"
   },
   "outputs": [],
   "source": [
    "# Gradient Boosting\n",
    "\n",
    "gradient_boosting = ensemble.GradientBoostingRegressor(learning_rate=0.19, max_depth=8, min_samples_leaf=2, min_samples_split=19, n_estimators=37)\n",
    "gradient_boosting = gradient_boosting.fit(X_train, Y_train)\n"
   ]
  },
  {
   "cell_type": "markdown",
   "metadata": {
    "id": "PdsXWES09fgd"
   },
   "source": []
  },
  {
   "cell_type": "code",
   "execution_count": null,
   "metadata": {
    "id": "_HoUxvrMtIbv"
   },
   "outputs": [],
   "source": [
    "# Tune hyperparameters (part I)\n",
    "\n",
    "## Begin with a randomized search in a large set of parameters\n",
    "parameters = {'criterion': [\"friedman_mse\", \"squared_error\"],\n",
    "              'loss': [\"squared_error\", \"absolute_error\", \"huber\", \"quantile\"],\n",
    "              'learning_rate': [0.01, 0.05, 0.1, 0.15, 0.2, 0.25],\n",
    "              'max_depth': range(3, 20),\n",
    "              'min_samples_leaf': range(1, 20),\n",
    "              'min_samples_split': range(2, 20),\n",
    "              'n_estimators': range(0, 100)\n",
    "}\n",
    "\n",
    "## Perform a randomized search through these parameters\n",
    "random_search = RandomizedSearchCV(gradient_boosting, parameters).fit(X_train, Y_train)\n",
    "\n",
    "## Display the results of the randmizeed search\n",
    "display(pd.DataFrame(random_search.cv_results_))\n",
    "\n",
    "## Print the best option\n",
    "random_search.best_estimator_\n"
   ]
  },
  {
   "cell_type": "code",
   "execution_count": null,
   "metadata": {
    "id": "c4kmTT3oKdfU"
   },
   "outputs": [],
   "source": [
    "# Tune hyperparameters (part II)\n",
    "\n",
    "## Now, we use the results of the randomized search above to do an exhaustive search.\n",
    "## Create a more localized dictionary listing the parameters that will be exhautively tested\n",
    "parameters = {'criterion': [\"friedman_mse\", \"squared_error\"],\n",
    "              'loss': [\"squared_error\", \"absolute_error\", \"huber\", \"quantile\"],\n",
    "              'learning_rate': [0.16, 0.17, 0.18, 0.19, 0.2],\n",
    "              'n_estimators': range(35, 45),\n",
    "              'max_depth': range(6, 15),\n",
    "              'min_samples_leaf': range(2, 4),\n",
    "              'min_samples_split': range(15, 20),\n",
    "}\n",
    "\n",
    "## Perform an exhaustive search through all these parameters\n",
    "grid_search = GridSearchCV(gradient_boosting, parameters).fit(X_train, Y_train)\n",
    "\n",
    "## Display the results\n",
    "display(pd.DataFrame(grid_search.cv_results_))\n",
    "\n",
    "## Print the best option\n",
    "grid_search.best_estimator_\n"
   ]
  },
  {
   "cell_type": "code",
   "execution_count": 28,
   "metadata": {
    "colab": {
     "base_uri": "https://localhost:8080/",
     "height": 469
    },
    "executionInfo": {
     "elapsed": 1269,
     "status": "ok",
     "timestamp": 1680647000054,
     "user": {
      "displayName": "Tiago Macedo",
      "userId": "03620921917936259665"
     },
     "user_tz": 180
    },
    "id": "QejuLJsCtfny",
    "outputId": "3c67b164-b2b9-40d6-a7f5-3c454dd9f362"
   },
   "outputs": [
    {
     "data": {
      "text/plain": [
       "[<matplotlib.lines.Line2D at 0x7fc006bdc130>]"
      ]
     },
     "execution_count": 28,
     "metadata": {},
     "output_type": "execute_result"
    },
    {
     "data": {
      "image/png": "[encoded data removed]",
      "text/plain": [
       "<Figure size 640x480 with 1 Axes>"
      ]
     },
     "metadata": {},
     "output_type": "display_data"
    }
   ],
   "source": [
    "# Plot the result\n",
    "\n",
    "T = np.linspace(-1, 2, 100)\n",
    "F = [f(t) for t in T]\n",
    "H = [gradient_boosting.predict([[t]]) for t in T]\n",
    "\n",
    "plt.title(\"Gradient boosting\")\n",
    "plt.plot(T, F, color = \"green\")\n",
    "plt.plot(T, H, color = \"red\")\n"
   ]
  },
  {
   "cell_type": "code",
   "execution_count": 29,
   "metadata": {
    "colab": {
     "base_uri": "https://localhost:8080/"
    },
    "executionInfo": {
     "elapsed": 466,
     "status": "ok",
     "timestamp": 1680647004583,
     "user": {
      "displayName": "Tiago Macedo",
      "userId": "03620921917936259665"
     },
     "user_tz": 180
    },
    "id": "OzsFFAwCtpit",
    "outputId": "6eb1dce5-c9ab-414c-bfff-3df434a6aa3b"
   },
   "outputs": [
    {
     "name": "stdout",
     "output_type": "stream",
     "text": [
      "R2: 0.9980442031407979 (test), 0.9997444346585075 (train)\n",
      "MAE: 0.009869941669674996 (test), 0.0027785899333246365 (train)\n",
      "MSE: 0.00013523023793313575 (test), 2.3403993206993977e-05 (train)\n"
     ]
    }
   ],
   "source": [
    "# Evaluate the method\n",
    "\n",
    "Y_predicted = gradient_boosting.predict(X_test)\n",
    "Y_eval = gradient_boosting.predict(X_train)\n",
    "\n",
    "print(f\"R2: {r2_score(Y_test, Y_predicted)} (test), {r2_score(Y_train, Y_eval)} (train)\")\n",
    "print(f\"MAE: {mean_absolute_error(Y_test, Y_predicted)} (test), {mean_absolute_error(Y_train, Y_eval)} (train)\")\n",
    "print(f\"MSE: {mean_squared_error(Y_test, Y_predicted)} (test), {mean_squared_error(Y_train, Y_eval)} (train)\")\n"
   ]
  },
  {
   "cell_type": "markdown",
   "metadata": {
    "id": "gJl7CiL7puFF"
   },
   "source": [
    "## Neural networks"
   ]
  },
  {
   "cell_type": "markdown",
   "metadata": {
    "id": "bNpVvAkApxC-"
   },
   "source": [
    "### TensorFlow and Keras"
   ]
  },
  {
   "cell_type": "code",
   "execution_count": null,
   "metadata": {
    "id": "BKd4jhh1sWlc"
   },
   "outputs": [],
   "source": [
    "# Use neural network with TensorFlow Keras\n",
    "\n",
    "layer_size = 8\n",
    "NN1 = tf.keras.Sequential([\n",
    "        tf.keras.layers.Dense(units=layer_size, input_shape=[1], activation=\"relu\"),\n",
    "        tf.keras.layers.Dense(units=layer_size, activation=\"relu\"),\n",
    "        tf.keras.layers.Dense(units=1)\n",
    "])\n",
    "#NN1.summary()\n",
    "compilacao = NN1.compile(optimizer=\"adam\", loss=\"mae\")\n",
    "\n",
    "n_epochs = 80\n",
    "treinamento = NN1.fit(X_train, Y_train, validation_data=(X_test, Y_test), batch_size=10, epochs=n_epochs)\n"
   ]
  },
  {
   "cell_type": "code",
   "execution_count": 31,
   "metadata": {
    "colab": {
     "base_uri": "https://localhost:8080/",
     "height": 469
    },
    "executionInfo": {
     "elapsed": 1122,
     "status": "ok",
     "timestamp": 1680647033679,
     "user": {
      "displayName": "Tiago Macedo",
      "userId": "03620921917936259665"
     },
     "user_tz": 180
    },
    "id": "VSOaEUfd00te",
    "outputId": "930778ae-6564-4bc2-ebce-ed40ec278027"
   },
   "outputs": [
    {
     "data": {
      "text/plain": [
       "[<matplotlib.lines.Line2D at 0x7fc0070e32b0>]"
      ]
     },
     "execution_count": 31,
     "metadata": {},
     "output_type": "execute_result"
    },
    {
     "data": {
      "image/png": "[encoded data removed]",
      "text/plain": [
       "<Figure size 640x480 with 1 Axes>"
      ]
     },
     "metadata": {},
     "output_type": "display_data"
    }
   ],
   "source": [
    "plt.title(\"Keras NNs : tuning number of epochs\")\n",
    "plt.plot(range(n_epochs), treinamento.history['loss'], color=\"blue\")\n",
    "plt.plot(range(n_epochs), treinamento.history['val_loss'], color=\"red\")"
   ]
  },
  {
   "cell_type": "code",
   "execution_count": 32,
   "metadata": {
    "colab": {
     "base_uri": "https://localhost:8080/",
     "height": 1000
    },
    "executionInfo": {
     "elapsed": 11951,
     "status": "ok",
     "timestamp": 1680647059754,
     "user": {
      "displayName": "Tiago Macedo",
      "userId": "03620921917936259665"
     },
     "user_tz": 180
    },
    "id": "je3Eg-SsqbhR",
    "outputId": "d0241518-a2e7-48d4-fb48-9f0b1f0ed986"
   },
   "outputs": [
    {
     "name": "stdout",
     "output_type": "stream",
     "text": [
      "1/1 [==============================] - 0s 116ms/step\n",
      "1/1 [==============================] - 0s 42ms/step\n",
      "1/1 [==============================] - 0s 40ms/step\n",
      "1/1 [==============================] - 0s 45ms/step\n",
      "1/1 [==============================] - 0s 38ms/step\n",
      "1/1 [==============================] - 0s 40ms/step\n",
      "1/1 [==============================] - 0s 249ms/step\n",
      "1/1 [==============================] - 0s 121ms/step\n",
      "1/1 [==============================] - 0s 100ms/step\n",
      "1/1 [==============================] - 0s 48ms/step\n",
      "1/1 [==============================] - 0s 41ms/step\n",
      "1/1 [==============================] - 0s 41ms/step\n",
      "1/1 [==============================] - 0s 43ms/step\n",
      "1/1 [==============================] - 0s 49ms/step\n",
      "1/1 [==============================] - 0s 41ms/step\n",
      "1/1 [==============================] - 0s 41ms/step\n",
      "1/1 [==============================] - 0s 42ms/step\n",
      "1/1 [==============================] - 0s 46ms/step\n",
      "1/1 [==============================] - 0s 41ms/step\n",
      "1/1 [==============================] - 0s 41ms/step\n",
      "1/1 [==============================] - 0s 47ms/step\n",
      "1/1 [==============================] - 0s 39ms/step\n",
      "1/1 [==============================] - 0s 50ms/step\n",
      "1/1 [==============================] - 0s 42ms/step\n",
      "1/1 [==============================] - 0s 39ms/step\n",
      "1/1 [==============================] - 0s 42ms/step\n",
      "1/1 [==============================] - 0s 44ms/step\n",
      "1/1 [==============================] - 0s 43ms/step\n",
      "1/1 [==============================] - 0s 40ms/step\n",
      "1/1 [==============================] - 0s 41ms/step\n",
      "1/1 [==============================] - 0s 46ms/step\n",
      "1/1 [==============================] - 0s 48ms/step\n",
      "1/1 [==============================] - 0s 41ms/step\n",
      "1/1 [==============================] - 0s 41ms/step\n",
      "1/1 [==============================] - 0s 39ms/step\n",
      "1/1 [==============================] - 0s 41ms/step\n",
      "1/1 [==============================] - 0s 42ms/step\n",
      "1/1 [==============================] - 0s 39ms/step\n",
      "1/1 [==============================] - 0s 38ms/step\n",
      "1/1 [==============================] - 0s 38ms/step\n",
      "1/1 [==============================] - 0s 45ms/step\n",
      "1/1 [==============================] - 0s 40ms/step\n",
      "1/1 [==============================] - 0s 42ms/step\n",
      "1/1 [==============================] - 0s 40ms/step\n",
      "1/1 [==============================] - 0s 45ms/step\n",
      "1/1 [==============================] - 0s 43ms/step\n",
      "1/1 [==============================] - 0s 42ms/step\n",
      "1/1 [==============================] - 0s 39ms/step\n",
      "1/1 [==============================] - 0s 40ms/step\n",
      "1/1 [==============================] - 0s 39ms/step\n",
      "1/1 [==============================] - 0s 40ms/step\n",
      "1/1 [==============================] - 0s 40ms/step\n",
      "1/1 [==============================] - 0s 40ms/step\n",
      "1/1 [==============================] - 0s 48ms/step\n",
      "1/1 [==============================] - 0s 42ms/step\n",
      "1/1 [==============================] - 0s 43ms/step\n",
      "1/1 [==============================] - 0s 40ms/step\n",
      "1/1 [==============================] - 0s 41ms/step\n",
      "1/1 [==============================] - 0s 39ms/step\n",
      "1/1 [==============================] - 0s 42ms/step\n",
      "1/1 [==============================] - 0s 43ms/step\n",
      "1/1 [==============================] - 0s 40ms/step\n",
      "1/1 [==============================] - 0s 45ms/step\n",
      "1/1 [==============================] - 0s 43ms/step\n",
      "1/1 [==============================] - 0s 47ms/step\n",
      "1/1 [==============================] - 0s 41ms/step\n",
      "1/1 [==============================] - 0s 41ms/step\n",
      "1/1 [==============================] - 0s 40ms/step\n",
      "1/1 [==============================] - 0s 40ms/step\n",
      "1/1 [==============================] - 0s 46ms/step\n",
      "1/1 [==============================] - 0s 41ms/step\n",
      "1/1 [==============================] - 0s 43ms/step\n",
      "1/1 [==============================] - 0s 42ms/step\n",
      "1/1 [==============================] - 0s 40ms/step\n",
      "1/1 [==============================] - 0s 43ms/step\n",
      "1/1 [==============================] - 0s 43ms/step\n",
      "1/1 [==============================] - 0s 44ms/step\n",
      "1/1 [==============================] - 0s 39ms/step\n",
      "1/1 [==============================] - 0s 45ms/step\n",
      "1/1 [==============================] - 0s 62ms/step\n",
      "1/1 [==============================] - 0s 68ms/step\n",
      "1/1 [==============================] - 0s 67ms/step\n",
      "1/1 [==============================] - 0s 65ms/step\n",
      "1/1 [==============================] - 0s 61ms/step\n",
      "1/1 [==============================] - 0s 65ms/step\n",
      "1/1 [==============================] - 0s 66ms/step\n",
      "1/1 [==============================] - 0s 60ms/step\n",
      "1/1 [==============================] - 0s 59ms/step\n",
      "1/1 [==============================] - 0s 71ms/step\n",
      "1/1 [==============================] - 0s 64ms/step\n",
      "1/1 [==============================] - 0s 61ms/step\n",
      "1/1 [==============================] - 0s 63ms/step\n",
      "1/1 [==============================] - 0s 78ms/step\n",
      "1/1 [==============================] - 0s 60ms/step\n",
      "1/1 [==============================] - 0s 65ms/step\n",
      "1/1 [==============================] - 0s 67ms/step\n",
      "1/1 [==============================] - 0s 61ms/step\n",
      "1/1 [==============================] - 0s 60ms/step\n",
      "1/1 [==============================] - 0s 67ms/step\n",
      "1/1 [==============================] - 0s 44ms/step\n"
     ]
    },
    {
     "data": {
      "text/plain": [
       "[<matplotlib.lines.Line2D at 0x7fc007a80d30>]"
      ]
     },
     "execution_count": 32,
     "metadata": {},
     "output_type": "execute_result"
    },
    {
     "data": {
      "image/png": "[encoded data removed]",
      "text/plain": [
       "<Figure size 640x480 with 1 Axes>"
      ]
     },
     "metadata": {},
     "output_type": "display_data"
    }
   ],
   "source": [
    "# Plot the result\n",
    "\n",
    "T = np.linspace(-1, 2, 100)\n",
    "F = [f(t) for t in T]\n",
    "J = [NN1.predict([[t]])[0,0] for t in T]\n",
    "#print(f\"T: {T}\")\n",
    "#print(f\"J: {J}\")\n",
    "\n",
    "plt.title(\"Neural network 01\")\n",
    "plt.plot(T, F, color = \"green\")\n",
    "plt.plot(T, J, color = \"purple\")\n"
   ]
  },
  {
   "cell_type": "code",
   "execution_count": 33,
   "metadata": {
    "colab": {
     "base_uri": "https://localhost:8080/"
    },
    "executionInfo": {
     "elapsed": 429,
     "status": "ok",
     "timestamp": 1680647068777,
     "user": {
      "displayName": "Tiago Macedo",
      "userId": "03620921917936259665"
     },
     "user_tz": 180
    },
    "id": "CjRU07PYqe3P",
    "outputId": "de33f8f1-9690-4399-efd1-3a319a75c2e8"
   },
   "outputs": [
    {
     "name": "stdout",
     "output_type": "stream",
     "text": [
      "1/1 [==============================] - 0s 26ms/step\n",
      "3/3 [==============================] - 0s 4ms/step\n",
      "R2: 0.9992222860576867 (test), 0.9985288514111951 (train)\n",
      "MAE: 0.00581544084270869 (test), 0.008164324092193708 (train)\n",
      "MSE: 5.377370403685378e-05 (test), 0.00013472386896358618 (train)\n"
     ]
    }
   ],
   "source": [
    "# Evaluate the method\n",
    "\n",
    "Y_predicted = NN1.predict(X_test)\n",
    "Y_eval = NN1.predict(X_train)\n",
    "\n",
    "print(f\"R2: {r2_score(Y_test, Y_predicted)} (test), {r2_score(Y_train, Y_eval)} (train)\")\n",
    "print(f\"MAE: {mean_absolute_error(Y_test, Y_predicted)} (test), {mean_absolute_error(Y_train, Y_eval)} (train)\")\n",
    "print(f\"MSE: {mean_squared_error(Y_test, Y_predicted)} (test), {mean_squared_error(Y_train, Y_eval)} (train)\")\n"
   ]
  },
  {
   "cell_type": "markdown",
   "metadata": {
    "id": "RVs48DMpqiES"
   },
   "source": [
    "### PyTorch"
   ]
  },
  {
   "cell_type": "code",
   "execution_count": 34,
   "metadata": {
    "executionInfo": {
     "elapsed": 406,
     "status": "ok",
     "timestamp": 1680647077336,
     "user": {
      "displayName": "Tiago Macedo",
      "userId": "03620921917936259665"
     },
     "user_tz": 180
    },
    "id": "puSGh4jA9slq"
   },
   "outputs": [],
   "source": [
    "# Neural netwrok with PyTorch\n",
    "feature_tensor = torch.from_numpy(X).to(torch.float32)\n",
    "label_tensor = torch.from_numpy(Y).to(torch.float32)\n",
    "\n",
    "layer_size = 400\n",
    "NN2 = torch.nn.Sequential(\n",
    "        torch.nn.Linear(1, layer_size),\n",
    "        torch.nn.ReLU(),\n",
    "        torch.nn.Linear(layer_size, 1)\n",
    ")\n",
    "\n",
    "number_epochs = 100\n",
    "# Why SGD, not Adam?\n",
    "optimiser = torch.optim.SGD(NN2.parameters(), lr=0.01, momentum=0.001)\n",
    "# MSE is the best loss/cost function for regression\n",
    "loss_function = torch.nn.MSELoss()\n",
    "\n",
    "for epoch in range(number_epochs):\n",
    "    # Reset the gradient (this accumulates over runs otherwise).\n",
    "    optimiser.zero_grad()\n",
    "\n",
    "    # Run one of the inputs through the network \n",
    "    model_output = torch.reshape(NN2(feature_tensor), (-1,))\n",
    "\n",
    "    # Use the loss function to measure how far away it is from the expected output.\n",
    "    loss = loss_function(model_output, label_tensor)\n",
    "\n",
    "    # Use backpropagation to update the model parameters.\n",
    "    loss.backward()\n",
    "    optimiser.step()"
   ]
  },
  {
   "cell_type": "code",
   "execution_count": 35,
   "metadata": {
    "colab": {
     "base_uri": "https://localhost:8080/",
     "height": 469
    },
    "executionInfo": {
     "elapsed": 733,
     "status": "ok",
     "timestamp": 1680647082515,
     "user": {
      "displayName": "Tiago Macedo",
      "userId": "03620921917936259665"
     },
     "user_tz": 180
    },
    "id": "K78hRGAXOwte",
    "outputId": "03db29a2-c323-4b4a-9933-5254519a3322"
   },
   "outputs": [
    {
     "data": {
      "text/plain": [
       "[<matplotlib.lines.Line2D at 0x7fc007f2ea30>]"
      ]
     },
     "execution_count": 35,
     "metadata": {},
     "output_type": "execute_result"
    },
    {
     "data": {
      "image/png": "[encoded data removed]",
      "text/plain": [
       "<Figure size 640x480 with 1 Axes>"
      ]
     },
     "metadata": {},
     "output_type": "display_data"
    }
   ],
   "source": [
    "# Plot the result\n",
    "\n",
    "T = np.linspace(-1, 2, 100)\n",
    "F = [f(t) for t in T]\n",
    "K = NN2(torch.tensor([[t] for t in T]).to(torch.float32)).detach().numpy()\n",
    "#print(f\"T: {T}\")\n",
    "#print(f\"K: {K}\")\n",
    "\n",
    "plt.title(\"Neural network 02\")\n",
    "plt.plot(T, F, color = \"green\")\n",
    "plt.plot(T, K, color = \"purple\")\n"
   ]
  },
  {
   "cell_type": "code",
   "execution_count": 36,
   "metadata": {
    "colab": {
     "base_uri": "https://localhost:8080/"
    },
    "executionInfo": {
     "elapsed": 450,
     "status": "ok",
     "timestamp": 1680647089500,
     "user": {
      "displayName": "Tiago Macedo",
      "userId": "03620921917936259665"
     },
     "user_tz": 180
    },
    "id": "Xu6VBgahmxV5",
    "outputId": "8c8c65a8-70e5-406a-8618-d07fc3435638"
   },
   "outputs": [
    {
     "name": "stdout",
     "output_type": "stream",
     "text": [
      "R2: 0.9602539972580894 (test), 0.9540071142914488 (train)\n",
      "MAE: 0.04693613608507765 (test), 0.05319031427364247 (train)\n",
      "MSE: 0.002748169566992927 (test), 0.004211905958792026 (train)\n"
     ]
    }
   ],
   "source": [
    "# Evaluate the method\n",
    "\n",
    "Y_predicted = NN2(torch.tensor(X_test).to(torch.float32)).detach().numpy()\n",
    "Y_eval = NN2(torch.tensor(X_train).to(torch.float32)).detach().numpy()\n",
    "\n",
    "print(f\"R2: {r2_score(Y_test, Y_predicted)} (test), {r2_score(Y_train, Y_eval)} (train)\")\n",
    "print(f\"MAE: {mean_absolute_error(Y_test, Y_predicted)} (test), {mean_absolute_error(Y_train, Y_eval)} (train)\")\n",
    "print(f\"MSE: {mean_squared_error(Y_test, Y_predicted)} (test), {mean_squared_error(Y_train, Y_eval)} (train)\")\n"
   ]
  },
  {
   "cell_type": "markdown",
   "metadata": {
    "id": "TMdlAK2ya70U"
   },
   "source": [
    "## Conclusions and final remarks\n",
    "\n",
    "The function $x^2$ is clearly a very simple function, but a good testing example for the regression methods that were implemented.  Notice that, by changing the definition of $f$ in the 'Random data set' section and running the following cells, one can experiment with different functions.\n",
    "\n",
    "Now, regarding the results obtained for the function $x^2$, one can see that `Random forests` is the most accurate method amongst those that were implemented.  At the same time, `Decision trees` is the fastest one to train and the easiest one to tune.  It is also worth noticing that `Decision trees` and `Random forests` are very prone to overfitting.  Thus, one must pay close attention to the tuning of these methods.\n",
    "\n",
    "Finally, notice that `Decision trees`, `Random forests` and `Gradient boosting` are not able to provide __any__ information about the values of the function $x^2$ outside the interval in which they were trained, $[0, 1]$.  However, the first neural network provides us some approximation for these values.  It would be interesting to find out whether it is possible to train the neural network in such a way that they give us better estimates for the values of $x^2$ outside the interval $[0,1]$."
   ]
  }
 ],
 "metadata": {
  "colab": {
   "authorship_tag": "ABX9TyO2rfMEzM2xXR3QS3ml3mpc",
   "provenance": []
  },
  "kernelspec": {
   "display_name": "Python 3 (ipykernel)",
   "language": "python",
   "name": "python3"
  },
  "language_info": {
   "codemirror_mode": {
    "name": "ipython",
    "version": 3
   },
   "file_extension": ".py",
   "mimetype": "text/x-python",
   "name": "python",
   "nbconvert_exporter": "python",
   "pygments_lexer": "ipython3",
   "version": "3.9.12"
  }
 },
 "nbformat": 4,
 "nbformat_minor": 1
}
